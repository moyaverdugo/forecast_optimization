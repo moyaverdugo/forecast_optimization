{
 "cells": [
  {
   "cell_type": "markdown",
   "id": "6e4813cc",
   "metadata": {},
   "source": [
    "# Capstone: Portfolio Optimization"
   ]
  },
  {
   "cell_type": "code",
   "execution_count": 1,
   "id": "c96ec2f9",
   "metadata": {},
   "outputs": [],
   "source": [
    "#Base\n",
    "import numpy as np\n",
    "import pandas as pd\n",
    "from datetime import datetime\n",
    "\n",
    "#import Financial Data from YahooFinance\n",
    "import yfinance as yf\n",
    "#import Financial Data from Federal Reserve Economic Data (FRED)\n",
    "import pandas_datareader as pdr"
   ]
  },
  {
   "cell_type": "markdown",
   "id": "70dae03d",
   "metadata": {},
   "source": [
    "# 1. Data Wrangling"
   ]
  },
  {
   "cell_type": "markdown",
   "id": "1e078a4a",
   "metadata": {},
   "source": [
    "### 1.1 SP500"
   ]
  },
  {
   "cell_type": "markdown",
   "id": "9817fe50",
   "metadata": {},
   "source": [
    "##### 1.1.1 S&P500 - Get the data"
   ]
  },
  {
   "cell_type": "code",
   "execution_count": 2,
   "id": "470fae5d",
   "metadata": {},
   "outputs": [],
   "source": [
    "tickers_list_1 = [\"AAL\", \"AAPL\", \"AAP\", \"ABBV\", \"ABC\", \"ABT\", \"ACN\", \"ADBE\", \"ADI\", \"ADM\", \"ADP\", \"ADSK\", \"ADS\", \"AEE\", \"AEP\", \"AES\", \"AET\", \"AFL\", \"AGN\", \"AIG\", \"AIV\", \"AIZ\", \"AJG\", \"AKAM\", \"ALB\", \"ALGN\", \"ALK\", \"ALLE\", \"ALL\", \"ALXN\", \"AMAT\", \"AMD\", \"AME\", \"AMGN\", \"AMG\", \"AMP\", \"AMT\", \"AMZN\", \"ANDV\", \"ANSS\", \"ANTM\", \"AON\", \"AOS\", \"APA\", \"APC\", \"APD\", \"APH\", \"APTV\", \"ARE\", \"ARNC\", \"ATVI\", \"AVB\", \"AVGO\", \"AVY\", \"AWK\", \"AXP\", \"AYI\", \"AZO\", \"A\"]"
   ]
  },
  {
   "cell_type": "code",
   "execution_count": 3,
   "id": "b95413f6",
   "metadata": {},
   "outputs": [],
   "source": [
    "tickers_list_2 = [\"BAC\", \"BAX\", \"BA\", \"BBT\", \"BBY\", \"BDX\", \"BEN\", \"BF.B\", \"BHF\", \"BHGE\", \"BIIB\", \"BK\", \"BLK\", \"BLL\", \"BMY\", \"BRK.B\", \"BSX\", \"BWA\", \"BXP\", \"CAG\", \"CAH\", \"CAT\", \"CA\", \"CBG\", \"CBOE\", \"CBS\", \"CB\", \"CCI\", \"CCL\", \"CDNS\", \"CELG\", \"CERN\", \"CFG\", \"CF\", \"CHD\", \"CHK\", \"CHRW\", \"CHTR\", \"CINF\", \"CI\", \"CLX\", \"CL\", \"CMA\", \"CMCSA\", \"CME\", \"CMG\", \"CMI\", \"CMS\", \"CNC\", \"CNP\", \"COF\", \"COG\", \"COL\", \"COO\", \"COP\", \"COST\", \"COTY\", \"CPB\", \"CRM\", \"CSCO\", \"CSRA\", \"CSX\", \"CTAS\", \"CTL\", \"CTSH\", \"CTXS\", \"CVS\", \"CVX\", \"CXO\", \"C\"]"
   ]
  },
  {
   "cell_type": "code",
   "execution_count": 4,
   "id": "3b722798",
   "metadata": {},
   "outputs": [],
   "source": [
    "tickers_list_3 = [\"DAL\", \"DE\", \"DFS\", \"DGX\", \"DG\", \"DHI\", \"DHR\", \"DISCA\", \"DISCK\", \"DISH\", \"DIS\", \"DLR\", \"DLTR\", \"DOV\", \"DPS\", \"DRE\", \"DRI\", \"DTE\", \"DUK\", \"DVA\", \"DVN\", \"DWDP\", \"DXC\", \"D\", \"EA\", \"EBAY\", \"ECL\", \"ED\", \"EFX\", \"EIX\", \"EL\", \"EMN\", \"EMR\", \"EOG\", \"EQIX\", \"EQR\", \"EQT\", \"ESRX\", \"ESS\", \"ES\", \"ETFC\", \"ETN\", \"ETR\", \"EVHC\", \"EW\", \"EXC\", \"EXPD\", \"EXPE\", \"EXR\", \"FAST\", \"FBHS\", \"FB\", \"FCX\", \"FDX\", \"FE\", \"FFIV\", \"FISV\", \"FIS\", \"FITB\", \"FLIR\", \"FLR\", \"FLS\", \"FL\", \"FMC\", \"FOXA\", \"FOX\", \"FRT\", \"FTI\", \"FTV\", \"F\"]"
   ]
  },
  {
   "cell_type": "code",
   "execution_count": 5,
   "id": "8ede8b2b",
   "metadata": {},
   "outputs": [],
   "source": [
    "tickers_list_4 = [\"GD\", \"GE\", \"GGP\", \"GILD\", \"GIS\", \"GLW\", \"GM\", \"GOOGL\", \"GOOG\", \"GPC\", \"GPN\", \"GPS\", \"GRMN\", \"GS\", \"GT\", \"GWW\", \"HAL\", \"HAS\", \"HBAN\", \"HBI\", \"HCA\", \"HCN\", \"HCP\", \"HD\", \"HES\", \"HIG\", \"HII\", \"HLT\", \"HOG\", \"HOLX\", \"HON\", \"HPE\", \"HPQ\", \"HP\", \"HRB\", \"HRL\", \"HRS\", \"HSIC\", \"HST\", \"HSY\", \"HUM\", \"IBM\", \"ICE\", \"IDXX\", \"IFF\", \"ILMN\", \"INCY\", \"INFO\", \"INTC\", \"INTU\", \"IPG\", \"IP\", \"IQV\", \"IRM\", \"IR\", \"ISRG\", \"ITW\", \"IT\", \"IVZ\", \"JBHT\", \"JCI\", \"JEC\", \"JNJ\", \"JNPR\", \"JPM\", \"JWN\", \"KEY\", \"KHC\", \"KIM\", \"KLAC\", \"KMB\", \"KMI\", \"KMX\", \"KORS\", \"KO\", \"KR\", \"KSS\", \"KSU\", \"K\"]"
   ]
  },
  {
   "cell_type": "code",
   "execution_count": 6,
   "id": "1ed68d3f",
   "metadata": {},
   "outputs": [],
   "source": [
    "tickers_list_5 = [\"LB\", \"LEG\", \"LEN\", \"LH\", \"LKQ\", \"LLL\", \"LLY\", \"LMT\", \"LNC\", \"LNT\", \"LOW\", \"LRCX\", \"LUK\", \"LUV\", \"LYB\", \"L\", \"MAA\", \"MAC\", \"MAR\", \"MAS\", \"MAT\", \"MA\", \"MCD\", \"MCHP\", \"MCK\", \"MCO\", \"MDLZ\", \"MDT\", \"MET\", \"MGM\", \"MHK\", \"MKC\", \"MLM\", \"MMC\", \"MMM\", \"MNST\", \"MON\"]"
   ]
  },
  {
   "cell_type": "code",
   "execution_count": 7,
   "id": "9fa292bc",
   "metadata": {},
   "outputs": [],
   "source": [
    "tickers_list_6 = [\"MOS\", \"MO\", \"MPC\", \"MRK\", \"MRO\", \"MSFT\", \"MSI\", \"MS\", \"MTB\", \"MTD\", \"MU\", \"MYL\", \"M\", \"NAVI\", \"NBL\", \"NCLH\", \"NDAQ\", \"NEE\", \"NEM\", \"NFLX\", \"NFX\", \"NI\", \"NKE\", \"NLSN\", \"NOC\", \"NOV\", \"NRG\", \"NSC\", \"NTAP\", \"NTRS\", \"NUE\", \"NVDA\", \"NWL\", \"NWSA\", \"NWS\"]"
   ]
  },
  {
   "cell_type": "code",
   "execution_count": 8,
   "id": "cf30b447",
   "metadata": {},
   "outputs": [],
   "source": [
    "tickers_list_7 = [\"OKE\", \"OMC\", \"ORCL\", \"ORLY\", \"OXY\", \"O\", \"PAYX\", \"PBCT\", \"PCAR\", \"PCG\", \"PCLN\", \"PDCO\", \"PEG\", \"PEP\", \"PFE\", \"PFG\", \"PGR\", \"PG\", \"PHM\", \"PH\", \"PKG\", \"PKI\", \"PLD\", \"PM\", \"PNC\", \"PNR\", \"PNW\", \"PPG\", \"PPL\", \"PRGO\", \"PRU\", \"PSA\", \"PSX\", \"PVH\", \"PWR\", \"PXD\", \"PX\"]"
   ]
  },
  {
   "cell_type": "code",
   "execution_count": 9,
   "id": "e2ed77ea",
   "metadata": {},
   "outputs": [],
   "source": [
    "tickers_list_8 = [\"PYPL\", \"QCOM\", \"QRVO\", \"RCL\", \"REGN\", \"REG\", \"RE\", \"RF\", \"RHI\", \"RHT\", \"RJF\", \"RL\", \"RMD\", \"ROK\", \"ROP\", \"ROST\", \"RRC\", \"RSG\", \"RTN\", \"SBAC\", \"SBUX\", \"SCG\", \"SCHW\", \"SEE\", \"SHW\", \"SIG\", \"SJM\", \"SLB\", \"SLG\", \"SNA\", \"SNI\", \"SNPS\", \"SO\", \"SPGI\", \"SPG\", \"SRCL\", \"SRE\", \"STI\", \"STT\", \"STX\", \"STZ\", \"SWKS\", \"SWK\", \"SYF\", \"SYK\", \"SYMC\", \"SYY\"]"
   ]
  },
  {
   "cell_type": "code",
   "execution_count": 10,
   "id": "e4a1d0fb",
   "metadata": {},
   "outputs": [],
   "source": [
    "tickers_list_9 = [\"TAP\", \"TDG\", \"TEL\", \"TGT\", \"TIF\", \"TJX\", \"TMK\", \"TMO\", \"TPR\", \"TRIP\", \"TROW\", \"TRV\", \"TSCO\", \"TSN\", \"TSS\", \"TWX\", \"TXN\", \"TXT\", \"T\", \"UAA\", \"UAL\", \"UA\", \"UDR\", \"UHS\", \"ULTA\", \"UNH\", \"UNM\", \"UNP\", \"UPS\", \"URI\", \"USB\", \"UTX\", \"VAR\", \"VFC\", \"VIAB\", \"VLO\", \"VMC\", \"VNO\", \"VRSK\", \"VRSN\", \"VRTX\", \"VTR\", \"VZ\", \"V\"]"
   ]
  },
  {
   "cell_type": "code",
   "execution_count": 11,
   "id": "da77b832",
   "metadata": {},
   "outputs": [],
   "source": [
    "tickers_list_10 = [\"WAT\", \"WBA\", \"WDC\", \"WEC\", \"WFC\", \"WHR\", \"WLTW\", \"WMB\", \"WMT\", \"WM\", \"WRK\", \"WU\", \"WYNN\", \"WYN\", \"WY\", \"XEC\", \"XEL\", \"XLNX\", \"XL\", \"XOM\", \"XRAY\", \"XRX\", \"XYL\", \"YUM\", \"ZBH\", \"ZION\", \"ZTS\"]"
   ]
  },
  {
   "cell_type": "code",
   "execution_count": 12,
   "id": "a15d4fe6",
   "metadata": {},
   "outputs": [],
   "source": [
    "# Concatenate all lists into one\n",
    "all_tickers = tickers_list_1 + tickers_list_2 + tickers_list_3 + tickers_list_4 + tickers_list_5 + tickers_list_6 + tickers_list_7 + tickers_list_8 + tickers_list_9 + tickers_list_10"
   ]
  },
  {
   "cell_type": "code",
   "execution_count": 13,
   "id": "6520cbd8",
   "metadata": {
    "scrolled": true
   },
   "outputs": [
    {
     "data": {
      "text/plain": [
       "505"
      ]
     },
     "execution_count": 13,
     "metadata": {},
     "output_type": "execute_result"
    }
   ],
   "source": [
    "len(all_tickers)"
   ]
  },
  {
   "cell_type": "code",
   "execution_count": 14,
   "id": "4438180a",
   "metadata": {},
   "outputs": [
    {
     "name": "stdout",
     "output_type": "stream",
     "text": [
      "[*********************100%***********************]  1 of 1 completed\n",
      "[*********************100%***********************]  1 of 1 completed\n",
      "[*********************100%***********************]  1 of 1 completed\n",
      "[*********************100%***********************]  1 of 1 completed\n",
      "[*********************100%***********************]  1 of 1 completed\n",
      "[*********************100%***********************]  1 of 1 completed\n",
      "[*********************100%***********************]  1 of 1 completed\n",
      "[*********************100%***********************]  1 of 1 completed\n",
      "[*********************100%***********************]  1 of 1 completed\n",
      "[*********************100%***********************]  1 of 1 completed\n",
      "[*********************100%***********************]  1 of 1 completed\n",
      "[*********************100%***********************]  1 of 1 completed\n",
      "[*********************100%***********************]  1 of 1 completed"
     ]
    },
    {
     "name": "stderr",
     "output_type": "stream",
     "text": [
      "\n",
      "1 Failed download:\n",
      "['ADS']: Exception('%ticker%: No timezone found, symbol may be delisted')\n"
     ]
    },
    {
     "name": "stdout",
     "output_type": "stream",
     "text": [
      "\n",
      "[*********************100%***********************]  1 of 1 completed\n",
      "[*********************100%***********************]  1 of 1 completed\n",
      "[*********************100%***********************]  1 of 1 completed\n",
      "[*********************100%***********************]  1 of 1 completed\n",
      "[*********************100%***********************]  1 of 1 completed\n",
      "[*********************100%***********************]  1 of 1 completed"
     ]
    },
    {
     "name": "stderr",
     "output_type": "stream",
     "text": [
      "\n",
      "1 Failed download:\n",
      "['AGN']: Exception('%ticker%: No timezone found, symbol may be delisted')\n"
     ]
    },
    {
     "name": "stdout",
     "output_type": "stream",
     "text": [
      "\n",
      "[*********************100%***********************]  1 of 1 completed\n",
      "[*********************100%***********************]  1 of 1 completed\n",
      "[*********************100%***********************]  1 of 1 completed\n",
      "[*********************100%***********************]  1 of 1 completed\n",
      "[*********************100%***********************]  1 of 1 completed\n",
      "[*********************100%***********************]  1 of 1 completed\n",
      "[*********************100%***********************]  1 of 1 completed\n",
      "[*********************100%***********************]  1 of 1 completed\n",
      "[*********************100%***********************]  1 of 1 completed\n",
      "[*********************100%***********************]  1 of 1 completed\n",
      "[*********************100%***********************]  1 of 1 completed"
     ]
    },
    {
     "name": "stderr",
     "output_type": "stream",
     "text": [
      "\n",
      "1 Failed download:\n",
      "['ALXN']: Exception('%ticker%: No timezone found, symbol may be delisted')\n"
     ]
    },
    {
     "name": "stdout",
     "output_type": "stream",
     "text": [
      "\n",
      "[*********************100%***********************]  1 of 1 completed\n",
      "[*********************100%***********************]  1 of 1 completed\n",
      "[*********************100%***********************]  1 of 1 completed\n",
      "[*********************100%***********************]  1 of 1 completed\n",
      "[*********************100%***********************]  1 of 1 completed\n",
      "[*********************100%***********************]  1 of 1 completed\n",
      "[*********************100%***********************]  1 of 1 completed\n",
      "[*********************100%***********************]  1 of 1 completed\n",
      "[*********************100%***********************]  1 of 1 completed\n",
      "[*********************100%***********************]  1 of 1 completed\n",
      "[*********************100%***********************]  1 of 1 completed"
     ]
    },
    {
     "name": "stderr",
     "output_type": "stream",
     "text": [
      "\n",
      "1 Failed download:\n",
      "['ANTM']: Exception('%ticker%: No timezone found, symbol may be delisted')\n"
     ]
    },
    {
     "name": "stdout",
     "output_type": "stream",
     "text": [
      "\n",
      "[*********************100%***********************]  1 of 1 completed\n",
      "[*********************100%***********************]  1 of 1 completed\n",
      "[*********************100%***********************]  1 of 1 completed\n",
      "[*********************100%***********************]  1 of 1 completed"
     ]
    },
    {
     "name": "stderr",
     "output_type": "stream",
     "text": [
      "\n",
      "1 Failed download:\n",
      "['APC']: Exception('%ticker%: No timezone found, symbol may be delisted')\n"
     ]
    },
    {
     "name": "stdout",
     "output_type": "stream",
     "text": [
      "\n",
      "[*********************100%***********************]  1 of 1 completed\n",
      "[*********************100%***********************]  1 of 1 completed\n",
      "[*********************100%***********************]  1 of 1 completed\n",
      "[*********************100%***********************]  1 of 1 completed\n",
      "[*********************100%***********************]  1 of 1 completed\n",
      "[*********************100%***********************]  1 of 1 completed\n",
      "[*********************100%***********************]  1 of 1 completed\n",
      "[*********************100%***********************]  1 of 1 completed\n",
      "[*********************100%***********************]  1 of 1 completed\n",
      "[*********************100%***********************]  1 of 1 completed\n",
      "[*********************100%***********************]  1 of 1 completed\n",
      "[*********************100%***********************]  1 of 1 completed\n",
      "[*********************100%***********************]  1 of 1 completed\n",
      "[*********************100%***********************]  1 of 1 completed\n",
      "[*********************100%***********************]  1 of 1 completed\n",
      "[*********************100%***********************]  1 of 1 completed\n",
      "[*********************100%***********************]  1 of 1 completed\n",
      "[*********************100%***********************]  1 of 1 completed"
     ]
    },
    {
     "name": "stderr",
     "output_type": "stream",
     "text": [
      "\n",
      "1 Failed download:\n",
      "['BBT']: Exception('%ticker%: No timezone found, symbol may be delisted')\n"
     ]
    },
    {
     "name": "stdout",
     "output_type": "stream",
     "text": [
      "\n",
      "[*********************100%***********************]  1 of 1 completed\n",
      "[*********************100%***********************]  1 of 1 completed\n",
      "[*********************100%***********************]  1 of 1 completed\n",
      "[*********************100%***********************]  1 of 1 completed"
     ]
    },
    {
     "name": "stderr",
     "output_type": "stream",
     "text": [
      "\n",
      "1 Failed download:\n",
      "['BF.B']: Exception('%ticker%: No price data found, symbol may be delisted (1d 2010-02-08 -> 2023-02-07)')\n"
     ]
    },
    {
     "name": "stdout",
     "output_type": "stream",
     "text": [
      "\n",
      "[*********************100%***********************]  1 of 1 completed\n",
      "[*********************100%***********************]  1 of 1 completed"
     ]
    },
    {
     "name": "stderr",
     "output_type": "stream",
     "text": [
      "\n",
      "1 Failed download:\n",
      "['BHGE']: Exception('%ticker%: No timezone found, symbol may be delisted')\n"
     ]
    },
    {
     "name": "stdout",
     "output_type": "stream",
     "text": [
      "\n",
      "[*********************100%***********************]  1 of 1 completed\n",
      "[*********************100%***********************]  1 of 1 completed\n",
      "[*********************100%***********************]  1 of 1 completed\n",
      "[*********************100%***********************]  1 of 1 completed"
     ]
    },
    {
     "name": "stderr",
     "output_type": "stream",
     "text": [
      "\n",
      "1 Failed download:\n",
      "['BLL']: Exception('%ticker%: No timezone found, symbol may be delisted')\n"
     ]
    },
    {
     "name": "stdout",
     "output_type": "stream",
     "text": [
      "\n",
      "[*********************100%***********************]  1 of 1 completed\n",
      "[*********************100%***********************]  1 of 1 completed"
     ]
    },
    {
     "name": "stderr",
     "output_type": "stream",
     "text": [
      "\n",
      "1 Failed download:\n",
      "['BRK.B']: Exception('%ticker%: No timezone found, symbol may be delisted')\n"
     ]
    },
    {
     "name": "stdout",
     "output_type": "stream",
     "text": [
      "\n",
      "[*********************100%***********************]  1 of 1 completed\n",
      "[*********************100%***********************]  1 of 1 completed\n",
      "[*********************100%***********************]  1 of 1 completed\n",
      "[*********************100%***********************]  1 of 1 completed\n",
      "[*********************100%***********************]  1 of 1 completed\n",
      "[*********************100%***********************]  1 of 1 completed\n",
      "[*********************100%***********************]  1 of 1 completed\n",
      "[*********************100%***********************]  1 of 1 completed"
     ]
    },
    {
     "name": "stderr",
     "output_type": "stream",
     "text": [
      "\n",
      "1 Failed download:\n",
      "['CBG']: Exception('%ticker%: No price data found, symbol may be delisted (1d 2010-02-08 -> 2023-02-07)')\n"
     ]
    },
    {
     "name": "stdout",
     "output_type": "stream",
     "text": [
      "\n",
      "[*********************100%***********************]  1 of 1 completed\n",
      "[*********************100%***********************]  1 of 1 completed"
     ]
    },
    {
     "name": "stderr",
     "output_type": "stream",
     "text": [
      "\n",
      "1 Failed download:\n",
      "['CBS']: Exception('%ticker%: No timezone found, symbol may be delisted')\n"
     ]
    },
    {
     "name": "stdout",
     "output_type": "stream",
     "text": [
      "\n",
      "[*********************100%***********************]  1 of 1 completed\n",
      "[*********************100%***********************]  1 of 1 completed\n",
      "[*********************100%***********************]  1 of 1 completed\n",
      "[*********************100%***********************]  1 of 1 completed\n",
      "[*********************100%***********************]  1 of 1 completed"
     ]
    },
    {
     "name": "stderr",
     "output_type": "stream",
     "text": [
      "\n",
      "1 Failed download:\n",
      "['CELG']: Exception('%ticker%: No timezone found, symbol may be delisted')\n"
     ]
    },
    {
     "name": "stdout",
     "output_type": "stream",
     "text": [
      "\n",
      "\r",
      "[*********************100%***********************]  1 of 1 completed"
     ]
    },
    {
     "name": "stderr",
     "output_type": "stream",
     "text": [
      "\n",
      "1 Failed download:\n",
      "['CERN']: Exception('%ticker%: No timezone found, symbol may be delisted')\n"
     ]
    },
    {
     "name": "stdout",
     "output_type": "stream",
     "text": [
      "\n",
      "[*********************100%***********************]  1 of 1 completed\n",
      "[*********************100%***********************]  1 of 1 completed\n",
      "[*********************100%***********************]  1 of 1 completed\n",
      "[*********************100%***********************]  1 of 1 completed\n",
      "[*********************100%***********************]  1 of 1 completed\n",
      "[*********************100%***********************]  1 of 1 completed\n",
      "[*********************100%***********************]  1 of 1 completed\n",
      "[*********************100%***********************]  1 of 1 completed\n",
      "[*********************100%***********************]  1 of 1 completed\n",
      "[*********************100%***********************]  1 of 1 completed\n",
      "[*********************100%***********************]  1 of 1 completed\n",
      "[*********************100%***********************]  1 of 1 completed\n",
      "[*********************100%***********************]  1 of 1 completed\n",
      "[*********************100%***********************]  1 of 1 completed\n",
      "[*********************100%***********************]  1 of 1 completed\n",
      "[*********************100%***********************]  1 of 1 completed\n",
      "[*********************100%***********************]  1 of 1 completed\n",
      "[*********************100%***********************]  1 of 1 completed\n",
      "[*********************100%***********************]  1 of 1 completed\n",
      "[*********************100%***********************]  1 of 1 completed"
     ]
    },
    {
     "name": "stderr",
     "output_type": "stream",
     "text": [
      "\n",
      "1 Failed download:\n",
      "['COG']: Exception('%ticker%: No timezone found, symbol may be delisted')\n"
     ]
    },
    {
     "name": "stdout",
     "output_type": "stream",
     "text": [
      "\n",
      "[*********************100%***********************]  1 of 1 completed\n",
      "[*********************100%***********************]  1 of 1 completed\n",
      "[*********************100%***********************]  1 of 1 completed\n",
      "[*********************100%***********************]  1 of 1 completed\n",
      "[*********************100%***********************]  1 of 1 completed\n",
      "[*********************100%***********************]  1 of 1 completed\n",
      "[*********************100%***********************]  1 of 1 completed\n",
      "[*********************100%***********************]  1 of 1 completed\n",
      "[*********************100%***********************]  1 of 1 completed\n",
      "[*********************100%***********************]  1 of 1 completed\n",
      "[*********************100%***********************]  1 of 1 completed\n",
      "[*********************100%***********************]  1 of 1 completed"
     ]
    },
    {
     "name": "stderr",
     "output_type": "stream",
     "text": [
      "\n",
      "1 Failed download:\n",
      "['CTL']: Exception('%ticker%: No timezone found, symbol may be delisted')\n"
     ]
    },
    {
     "name": "stdout",
     "output_type": "stream",
     "text": [
      "\n",
      "[*********************100%***********************]  1 of 1 completed\n",
      "[*********************100%***********************]  1 of 1 completed"
     ]
    },
    {
     "name": "stderr",
     "output_type": "stream",
     "text": [
      "\n",
      "1 Failed download:\n",
      "['CTXS']: Exception('%ticker%: No timezone found, symbol may be delisted')\n"
     ]
    },
    {
     "name": "stdout",
     "output_type": "stream",
     "text": [
      "\n",
      "[*********************100%***********************]  1 of 1 completed\n",
      "[*********************100%***********************]  1 of 1 completed\n",
      "[*********************100%***********************]  1 of 1 completed"
     ]
    },
    {
     "name": "stderr",
     "output_type": "stream",
     "text": [
      "\n",
      "1 Failed download:\n",
      "['CXO']: Exception('%ticker%: No timezone found, symbol may be delisted')\n"
     ]
    },
    {
     "name": "stdout",
     "output_type": "stream",
     "text": [
      "\n",
      "[*********************100%***********************]  1 of 1 completed\n",
      "[*********************100%***********************]  1 of 1 completed\n",
      "[*********************100%***********************]  1 of 1 completed\n",
      "[*********************100%***********************]  1 of 1 completed\n",
      "[*********************100%***********************]  1 of 1 completed\n",
      "[*********************100%***********************]  1 of 1 completed\n",
      "[*********************100%***********************]  1 of 1 completed\n",
      "[*********************100%***********************]  1 of 1 completed\n",
      "[*********************100%***********************]  1 of 1 completed"
     ]
    },
    {
     "name": "stderr",
     "output_type": "stream",
     "text": [
      "\n",
      "1 Failed download:\n",
      "['DISCA']: Exception('%ticker%: No timezone found, symbol may be delisted')\n"
     ]
    },
    {
     "name": "stdout",
     "output_type": "stream",
     "text": [
      "\n",
      "\r",
      "[*********************100%***********************]  1 of 1 completed"
     ]
    },
    {
     "name": "stderr",
     "output_type": "stream",
     "text": [
      "\n",
      "1 Failed download:\n",
      "['DISCK']: Exception('%ticker%: No timezone found, symbol may be delisted')\n"
     ]
    },
    {
     "name": "stdout",
     "output_type": "stream",
     "text": [
      "\n",
      "[*********************100%***********************]  1 of 1 completed\n",
      "[*********************100%***********************]  1 of 1 completed\n",
      "[*********************100%***********************]  1 of 1 completed\n",
      "[*********************100%***********************]  1 of 1 completed\n",
      "[*********************100%***********************]  1 of 1 completed\n",
      "[*********************100%***********************]  1 of 1 completed"
     ]
    },
    {
     "name": "stderr",
     "output_type": "stream",
     "text": [
      "\n",
      "1 Failed download:\n",
      "['DPS']: Exception('%ticker%: No price data found, symbol may be delisted (1d 2010-02-08 -> 2023-02-07)')\n"
     ]
    },
    {
     "name": "stdout",
     "output_type": "stream",
     "text": [
      "\n",
      "\r",
      "[*********************100%***********************]  1 of 1 completed"
     ]
    },
    {
     "name": "stderr",
     "output_type": "stream",
     "text": [
      "\n",
      "1 Failed download:\n",
      "['DRE']: Exception('%ticker%: No timezone found, symbol may be delisted')\n"
     ]
    },
    {
     "name": "stdout",
     "output_type": "stream",
     "text": [
      "\n",
      "[*********************100%***********************]  1 of 1 completed\n",
      "[*********************100%***********************]  1 of 1 completed\n",
      "[*********************100%***********************]  1 of 1 completed\n",
      "[*********************100%***********************]  1 of 1 completed\n",
      "[*********************100%***********************]  1 of 1 completed\n",
      "[*********************100%***********************]  1 of 1 completed"
     ]
    },
    {
     "name": "stderr",
     "output_type": "stream",
     "text": [
      "\n",
      "1 Failed download:\n",
      "['DWDP']: Exception('%ticker%: No timezone found, symbol may be delisted')\n"
     ]
    },
    {
     "name": "stdout",
     "output_type": "stream",
     "text": [
      "\n",
      "[*********************100%***********************]  1 of 1 completed\n",
      "[*********************100%***********************]  1 of 1 completed\n",
      "[*********************100%***********************]  1 of 1 completed\n",
      "[*********************100%***********************]  1 of 1 completed\n",
      "[*********************100%***********************]  1 of 1 completed\n",
      "[*********************100%***********************]  1 of 1 completed\n",
      "[*********************100%***********************]  1 of 1 completed\n",
      "[*********************100%***********************]  1 of 1 completed\n",
      "[*********************100%***********************]  1 of 1 completed\n",
      "[*********************100%***********************]  1 of 1 completed\n",
      "[*********************100%***********************]  1 of 1 completed\n",
      "[*********************100%***********************]  1 of 1 completed\n",
      "[*********************100%***********************]  1 of 1 completed\n",
      "[*********************100%***********************]  1 of 1 completed\n",
      "[*********************100%***********************]  1 of 1 completed\n",
      "[*********************100%***********************]  1 of 1 completed\n",
      "[*********************100%***********************]  1 of 1 completed\n",
      "[*********************100%***********************]  1 of 1 completed\n",
      "[*********************100%***********************]  1 of 1 completed"
     ]
    },
    {
     "name": "stderr",
     "output_type": "stream",
     "text": [
      "\n",
      "1 Failed download:\n",
      "['ETFC']: Exception('%ticker%: No timezone found, symbol may be delisted')\n"
     ]
    },
    {
     "name": "stdout",
     "output_type": "stream",
     "text": [
      "\n",
      "[*********************100%***********************]  1 of 1 completed\n",
      "[*********************100%***********************]  1 of 1 completed\n",
      "[*********************100%***********************]  1 of 1 completed\n",
      "[*********************100%***********************]  1 of 1 completed\n",
      "[*********************100%***********************]  1 of 1 completed\n",
      "[*********************100%***********************]  1 of 1 completed\n",
      "[*********************100%***********************]  1 of 1 completed\n",
      "[*********************100%***********************]  1 of 1 completed\n",
      "[*********************100%***********************]  1 of 1 completed\n",
      "[*********************100%***********************]  1 of 1 completed"
     ]
    },
    {
     "name": "stderr",
     "output_type": "stream",
     "text": [
      "\n",
      "1 Failed download:\n",
      "['FBHS']: Exception('%ticker%: No timezone found, symbol may be delisted')\n"
     ]
    },
    {
     "name": "stdout",
     "output_type": "stream",
     "text": [
      "\n",
      "\r",
      "[*********************100%***********************]  1 of 1 completed"
     ]
    },
    {
     "name": "stderr",
     "output_type": "stream",
     "text": [
      "\n",
      "1 Failed download:\n",
      "['FB']: Exception('%ticker%: No timezone found, symbol may be delisted')\n"
     ]
    },
    {
     "name": "stdout",
     "output_type": "stream",
     "text": [
      "\n",
      "[*********************100%***********************]  1 of 1 completed\n",
      "[*********************100%***********************]  1 of 1 completed\n",
      "[*********************100%***********************]  1 of 1 completed\n",
      "[*********************100%***********************]  1 of 1 completed\n",
      "[*********************100%***********************]  1 of 1 completed"
     ]
    },
    {
     "name": "stderr",
     "output_type": "stream",
     "text": [
      "\n",
      "1 Failed download:\n",
      "['FISV']: Exception(\"%ticker%: Data doesn't exist for startDate = 1265605200, endDate = 1675746000\")\n"
     ]
    },
    {
     "name": "stdout",
     "output_type": "stream",
     "text": [
      "\n",
      "[*********************100%***********************]  1 of 1 completed\n",
      "[*********************100%***********************]  1 of 1 completed\n",
      "[*********************100%***********************]  1 of 1 completed"
     ]
    },
    {
     "name": "stderr",
     "output_type": "stream",
     "text": [
      "\n",
      "1 Failed download:\n",
      "['FLIR']: Exception('%ticker%: No timezone found, symbol may be delisted')\n"
     ]
    },
    {
     "name": "stdout",
     "output_type": "stream",
     "text": [
      "\n",
      "[*********************100%***********************]  1 of 1 completed\n",
      "[*********************100%***********************]  1 of 1 completed\n",
      "[*********************100%***********************]  1 of 1 completed\n",
      "[*********************100%***********************]  1 of 1 completed\n",
      "[*********************100%***********************]  1 of 1 completed\n",
      "[*********************100%***********************]  1 of 1 completed\n",
      "[*********************100%***********************]  1 of 1 completed\n",
      "[*********************100%***********************]  1 of 1 completed\n",
      "[*********************100%***********************]  1 of 1 completed\n",
      "[*********************100%***********************]  1 of 1 completed\n",
      "[*********************100%***********************]  1 of 1 completed\n",
      "[*********************100%***********************]  1 of 1 completed\n",
      "[*********************100%***********************]  1 of 1 completed"
     ]
    },
    {
     "name": "stderr",
     "output_type": "stream",
     "text": [
      "\n",
      "1 Failed download:\n",
      "['GGP']: Exception('%ticker%: No price data found, symbol may be delisted (1d 2010-02-08 -> 2023-02-07)')\n"
     ]
    },
    {
     "name": "stdout",
     "output_type": "stream",
     "text": [
      "\n",
      "[*********************100%***********************]  1 of 1 completed\n",
      "[*********************100%***********************]  1 of 1 completed\n",
      "[*********************100%***********************]  1 of 1 completed\n",
      "[*********************100%***********************]  1 of 1 completed\n",
      "[*********************100%***********************]  1 of 1 completed\n",
      "[*********************100%***********************]  1 of 1 completed\n",
      "[*********************100%***********************]  1 of 1 completed\n",
      "[*********************100%***********************]  1 of 1 completed\n",
      "[*********************100%***********************]  1 of 1 completed\n",
      "[*********************100%***********************]  1 of 1 completed\n",
      "[*********************100%***********************]  1 of 1 completed\n",
      "[*********************100%***********************]  1 of 1 completed\n",
      "[*********************100%***********************]  1 of 1 completed\n",
      "[*********************100%***********************]  1 of 1 completed\n",
      "[*********************100%***********************]  1 of 1 completed\n",
      "[*********************100%***********************]  1 of 1 completed\n",
      "[*********************100%***********************]  1 of 1 completed\n",
      "[*********************100%***********************]  1 of 1 completed\n",
      "[*********************100%***********************]  1 of 1 completed"
     ]
    },
    {
     "name": "stderr",
     "output_type": "stream",
     "text": [
      "\n",
      "1 Failed download:\n",
      "['HCN']: Exception('%ticker%: No price data found, symbol may be delisted (1d 2010-02-08 -> 2023-02-07)')\n"
     ]
    },
    {
     "name": "stdout",
     "output_type": "stream",
     "text": [
      "\n",
      "[*********************100%***********************]  1 of 1 completed\n",
      "[*********************100%***********************]  1 of 1 completed\n",
      "[*********************100%***********************]  1 of 1 completed\n",
      "[*********************100%***********************]  1 of 1 completed\n",
      "[*********************100%***********************]  1 of 1 completed\n",
      "[*********************100%***********************]  1 of 1 completed\n",
      "[*********************100%***********************]  1 of 1 completed\n",
      "[*********************100%***********************]  1 of 1 completed\n",
      "[*********************100%***********************]  1 of 1 completed\n",
      "[*********************100%***********************]  1 of 1 completed\n",
      "[*********************100%***********************]  1 of 1 completed\n",
      "[*********************100%***********************]  1 of 1 completed\n",
      "[*********************100%***********************]  1 of 1 completed\n",
      "[*********************100%***********************]  1 of 1 completed\n",
      "[*********************100%***********************]  1 of 1 completed"
     ]
    },
    {
     "name": "stderr",
     "output_type": "stream",
     "text": [
      "\n",
      "1 Failed download:\n",
      "['HRS']: Exception('%ticker%: No timezone found, symbol may be delisted')\n"
     ]
    },
    {
     "name": "stdout",
     "output_type": "stream",
     "text": [
      "\n",
      "[*********************100%***********************]  1 of 1 completed\n",
      "[*********************100%***********************]  1 of 1 completed\n",
      "[*********************100%***********************]  1 of 1 completed\n",
      "[*********************100%***********************]  1 of 1 completed\n",
      "[*********************100%***********************]  1 of 1 completed\n",
      "[*********************100%***********************]  1 of 1 completed\n",
      "[*********************100%***********************]  1 of 1 completed\n",
      "[*********************100%***********************]  1 of 1 completed\n",
      "[*********************100%***********************]  1 of 1 completed\n",
      "[*********************100%***********************]  1 of 1 completed\n",
      "[*********************100%***********************]  1 of 1 completed"
     ]
    },
    {
     "name": "stderr",
     "output_type": "stream",
     "text": [
      "\n",
      "1 Failed download:\n",
      "['INFO']: Exception('%ticker%: No timezone found, symbol may be delisted')\n"
     ]
    },
    {
     "name": "stdout",
     "output_type": "stream",
     "text": [
      "\n",
      "[*********************100%***********************]  1 of 1 completed\n",
      "[*********************100%***********************]  1 of 1 completed\n",
      "[*********************100%***********************]  1 of 1 completed\n",
      "[*********************100%***********************]  1 of 1 completed\n",
      "[*********************100%***********************]  1 of 1 completed\n",
      "[*********************100%***********************]  1 of 1 completed\n",
      "[*********************100%***********************]  1 of 1 completed\n",
      "[*********************100%***********************]  1 of 1 completed\n",
      "[*********************100%***********************]  1 of 1 completed\n",
      "[*********************100%***********************]  1 of 1 completed\n",
      "[*********************100%***********************]  1 of 1 completed\n",
      "[*********************100%***********************]  1 of 1 completed\n",
      "[*********************100%***********************]  1 of 1 completed\n",
      "[*********************100%***********************]  1 of 1 completed"
     ]
    },
    {
     "name": "stderr",
     "output_type": "stream",
     "text": [
      "\n",
      "1 Failed download:\n",
      "['JEC']: Exception('%ticker%: No timezone found, symbol may be delisted')\n"
     ]
    },
    {
     "name": "stdout",
     "output_type": "stream",
     "text": [
      "\n",
      "[*********************100%***********************]  1 of 1 completed\n",
      "[*********************100%***********************]  1 of 1 completed\n",
      "[*********************100%***********************]  1 of 1 completed\n",
      "[*********************100%***********************]  1 of 1 completed\n",
      "[*********************100%***********************]  1 of 1 completed\n",
      "[*********************100%***********************]  1 of 1 completed\n",
      "[*********************100%***********************]  1 of 1 completed\n",
      "[*********************100%***********************]  1 of 1 completed\n",
      "[*********************100%***********************]  1 of 1 completed\n",
      "[*********************100%***********************]  1 of 1 completed\n",
      "[*********************100%***********************]  1 of 1 completed\n",
      "[*********************100%***********************]  1 of 1 completed"
     ]
    },
    {
     "name": "stderr",
     "output_type": "stream",
     "text": [
      "\n",
      "1 Failed download:\n",
      "['KORS']: Exception('%ticker%: No price data found, symbol may be delisted (1d 2010-02-08 -> 2023-02-07)')\n"
     ]
    },
    {
     "name": "stdout",
     "output_type": "stream",
     "text": [
      "\n",
      "[*********************100%***********************]  1 of 1 completed\n",
      "[*********************100%***********************]  1 of 1 completed\n",
      "[*********************100%***********************]  1 of 1 completed\n",
      "[*********************100%***********************]  1 of 1 completed"
     ]
    },
    {
     "name": "stderr",
     "output_type": "stream",
     "text": [
      "\n",
      "1 Failed download:\n",
      "['KSU']: Exception('%ticker%: No timezone found, symbol may be delisted')\n"
     ]
    },
    {
     "name": "stdout",
     "output_type": "stream",
     "text": [
      "\n",
      "[*********************100%***********************]  1 of 1 completed\n",
      "[*********************100%***********************]  1 of 1 completed"
     ]
    },
    {
     "name": "stderr",
     "output_type": "stream",
     "text": [
      "\n",
      "1 Failed download:\n",
      "['LB']: Exception('%ticker%: No timezone found, symbol may be delisted')\n"
     ]
    },
    {
     "name": "stdout",
     "output_type": "stream",
     "text": [
      "\n",
      "[*********************100%***********************]  1 of 1 completed\n",
      "[*********************100%***********************]  1 of 1 completed\n",
      "[*********************100%***********************]  1 of 1 completed\n",
      "[*********************100%***********************]  1 of 1 completed\n",
      "[*********************100%***********************]  1 of 1 completed"
     ]
    },
    {
     "name": "stderr",
     "output_type": "stream",
     "text": [
      "\n",
      "1 Failed download:\n",
      "['LLL']: Exception('%ticker%: No timezone found, symbol may be delisted')\n"
     ]
    },
    {
     "name": "stdout",
     "output_type": "stream",
     "text": [
      "\n",
      "[*********************100%***********************]  1 of 1 completed\n",
      "[*********************100%***********************]  1 of 1 completed\n",
      "[*********************100%***********************]  1 of 1 completed\n",
      "[*********************100%***********************]  1 of 1 completed\n",
      "[*********************100%***********************]  1 of 1 completed\n",
      "[*********************100%***********************]  1 of 1 completed\n",
      "[*********************100%***********************]  1 of 1 completed"
     ]
    },
    {
     "name": "stderr",
     "output_type": "stream",
     "text": [
      "\n",
      "1 Failed download:\n",
      "['LUK']: Exception('%ticker%: No price data found, symbol may be delisted (1d 2010-02-08 -> 2023-02-07)')\n"
     ]
    },
    {
     "name": "stdout",
     "output_type": "stream",
     "text": [
      "\n",
      "[*********************100%***********************]  1 of 1 completed\n",
      "[*********************100%***********************]  1 of 1 completed\n",
      "[*********************100%***********************]  1 of 1 completed\n",
      "[*********************100%***********************]  1 of 1 completed\n",
      "[*********************100%***********************]  1 of 1 completed\n",
      "[*********************100%***********************]  1 of 1 completed\n",
      "[*********************100%***********************]  1 of 1 completed\n",
      "[*********************100%***********************]  1 of 1 completed\n",
      "[*********************100%***********************]  1 of 1 completed\n",
      "[*********************100%***********************]  1 of 1 completed\n",
      "[*********************100%***********************]  1 of 1 completed\n",
      "[*********************100%***********************]  1 of 1 completed\n",
      "[*********************100%***********************]  1 of 1 completed\n",
      "[*********************100%***********************]  1 of 1 completed\n",
      "[*********************100%***********************]  1 of 1 completed\n",
      "[*********************100%***********************]  1 of 1 completed\n",
      "[*********************100%***********************]  1 of 1 completed\n",
      "[*********************100%***********************]  1 of 1 completed\n",
      "[*********************100%***********************]  1 of 1 completed\n",
      "[*********************100%***********************]  1 of 1 completed\n",
      "[*********************100%***********************]  1 of 1 completed\n",
      "[*********************100%***********************]  1 of 1 completed\n",
      "[*********************100%***********************]  1 of 1 completed\n",
      "[*********************100%***********************]  1 of 1 completed"
     ]
    },
    {
     "name": "stderr",
     "output_type": "stream",
     "text": [
      "\n",
      "1 Failed download:\n",
      "['MON']: Exception('%ticker%: No timezone found, symbol may be delisted')\n"
     ]
    },
    {
     "name": "stdout",
     "output_type": "stream",
     "text": [
      "\n",
      "[*********************100%***********************]  1 of 1 completed\n",
      "[*********************100%***********************]  1 of 1 completed\n",
      "[*********************100%***********************]  1 of 1 completed\n",
      "[*********************100%***********************]  1 of 1 completed\n",
      "[*********************100%***********************]  1 of 1 completed\n",
      "[*********************100%***********************]  1 of 1 completed\n",
      "[*********************100%***********************]  1 of 1 completed\n",
      "[*********************100%***********************]  1 of 1 completed\n",
      "[*********************100%***********************]  1 of 1 completed\n",
      "[*********************100%***********************]  1 of 1 completed\n",
      "[*********************100%***********************]  1 of 1 completed\n",
      "[*********************100%***********************]  1 of 1 completed"
     ]
    },
    {
     "name": "stderr",
     "output_type": "stream",
     "text": [
      "\n",
      "1 Failed download:\n",
      "['MYL']: Exception('%ticker%: No timezone found, symbol may be delisted')\n"
     ]
    },
    {
     "name": "stdout",
     "output_type": "stream",
     "text": [
      "\n",
      "[*********************100%***********************]  1 of 1 completed\n",
      "[*********************100%***********************]  1 of 1 completed\n",
      "[*********************100%***********************]  1 of 1 completed"
     ]
    },
    {
     "name": "stderr",
     "output_type": "stream",
     "text": [
      "\n",
      "1 Failed download:\n",
      "['NBL']: Exception('%ticker%: No timezone found, symbol may be delisted')\n"
     ]
    },
    {
     "name": "stdout",
     "output_type": "stream",
     "text": [
      "\n",
      "[*********************100%***********************]  1 of 1 completed\n",
      "[*********************100%***********************]  1 of 1 completed\n",
      "[*********************100%***********************]  1 of 1 completed\n",
      "[*********************100%***********************]  1 of 1 completed\n",
      "[*********************100%***********************]  1 of 1 completed\n",
      "[*********************100%***********************]  1 of 1 completed\n",
      "[*********************100%***********************]  1 of 1 completed\n",
      "[*********************100%***********************]  1 of 1 completed\n",
      "[*********************100%***********************]  1 of 1 completed"
     ]
    },
    {
     "name": "stderr",
     "output_type": "stream",
     "text": [
      "\n",
      "1 Failed download:\n",
      "['NLSN']: Exception('%ticker%: No timezone found, symbol may be delisted')\n"
     ]
    },
    {
     "name": "stdout",
     "output_type": "stream",
     "text": [
      "\n",
      "[*********************100%***********************]  1 of 1 completed\n",
      "[*********************100%***********************]  1 of 1 completed\n",
      "[*********************100%***********************]  1 of 1 completed\n",
      "[*********************100%***********************]  1 of 1 completed\n",
      "[*********************100%***********************]  1 of 1 completed\n",
      "[*********************100%***********************]  1 of 1 completed\n",
      "[*********************100%***********************]  1 of 1 completed\n",
      "[*********************100%***********************]  1 of 1 completed\n",
      "[*********************100%***********************]  1 of 1 completed\n",
      "[*********************100%***********************]  1 of 1 completed\n",
      "[*********************100%***********************]  1 of 1 completed\n",
      "[*********************100%***********************]  1 of 1 completed\n",
      "[*********************100%***********************]  1 of 1 completed\n",
      "[*********************100%***********************]  1 of 1 completed\n",
      "[*********************100%***********************]  1 of 1 completed\n",
      "[*********************100%***********************]  1 of 1 completed\n",
      "[*********************100%***********************]  1 of 1 completed\n",
      "[*********************100%***********************]  1 of 1 completed\n",
      "[*********************100%***********************]  1 of 1 completed"
     ]
    },
    {
     "name": "stderr",
     "output_type": "stream",
     "text": [
      "\n",
      "1 Failed download:\n",
      "['PBCT']: Exception('%ticker%: No timezone found, symbol may be delisted')\n"
     ]
    },
    {
     "name": "stdout",
     "output_type": "stream",
     "text": [
      "\n",
      "[*********************100%***********************]  1 of 1 completed\n",
      "[*********************100%***********************]  1 of 1 completed\n",
      "[*********************100%***********************]  1 of 1 completed"
     ]
    },
    {
     "name": "stderr",
     "output_type": "stream",
     "text": [
      "\n",
      "1 Failed download:\n",
      "['PCLN']: Exception('%ticker%: No price data found, symbol may be delisted (1d 2010-02-08 -> 2023-02-07)')\n"
     ]
    },
    {
     "name": "stdout",
     "output_type": "stream",
     "text": [
      "\n",
      "[*********************100%***********************]  1 of 1 completed\n",
      "[*********************100%***********************]  1 of 1 completed\n",
      "[*********************100%***********************]  1 of 1 completed\n",
      "[*********************100%***********************]  1 of 1 completed\n",
      "[*********************100%***********************]  1 of 1 completed\n",
      "[*********************100%***********************]  1 of 1 completed\n",
      "[*********************100%***********************]  1 of 1 completed\n",
      "[*********************100%***********************]  1 of 1 completed\n",
      "[*********************100%***********************]  1 of 1 completed\n",
      "[*********************100%***********************]  1 of 1 completed\n",
      "[*********************100%***********************]  1 of 1 completed"
     ]
    },
    {
     "name": "stderr",
     "output_type": "stream",
     "text": [
      "\n",
      "1 Failed download:\n",
      "['PKI']: Exception('%ticker%: No timezone found, symbol may be delisted')\n"
     ]
    },
    {
     "name": "stdout",
     "output_type": "stream",
     "text": [
      "\n",
      "[*********************100%***********************]  1 of 1 completed\n",
      "[*********************100%***********************]  1 of 1 completed\n",
      "[*********************100%***********************]  1 of 1 completed\n",
      "[*********************100%***********************]  1 of 1 completed\n",
      "[*********************100%***********************]  1 of 1 completed\n",
      "[*********************100%***********************]  1 of 1 completed\n",
      "[*********************100%***********************]  1 of 1 completed\n",
      "[*********************100%***********************]  1 of 1 completed\n",
      "[*********************100%***********************]  1 of 1 completed\n",
      "[*********************100%***********************]  1 of 1 completed\n",
      "[*********************100%***********************]  1 of 1 completed\n",
      "[*********************100%***********************]  1 of 1 completed\n",
      "[*********************100%***********************]  1 of 1 completed\n",
      "[*********************100%***********************]  1 of 1 completed\n",
      "[*********************100%***********************]  1 of 1 completed\n",
      "[*********************100%***********************]  1 of 1 completed\n",
      "[*********************100%***********************]  1 of 1 completed\n",
      "[*********************100%***********************]  1 of 1 completed\n",
      "[*********************100%***********************]  1 of 1 completed\n",
      "[*********************100%***********************]  1 of 1 completed\n",
      "[*********************100%***********************]  1 of 1 completed\n",
      "[*********************100%***********************]  1 of 1 completed\n",
      "[*********************100%***********************]  1 of 1 completed\n",
      "[*********************100%***********************]  1 of 1 completed\n",
      "[*********************100%***********************]  1 of 1 completed"
     ]
    },
    {
     "name": "stderr",
     "output_type": "stream",
     "text": [
      "\n",
      "1 Failed download:\n",
      "['RHT']: Exception('%ticker%: No timezone found, symbol may be delisted')\n"
     ]
    },
    {
     "name": "stdout",
     "output_type": "stream",
     "text": [
      "\n",
      "[*********************100%***********************]  1 of 1 completed\n",
      "[*********************100%***********************]  1 of 1 completed\n",
      "[*********************100%***********************]  1 of 1 completed\n",
      "[*********************100%***********************]  1 of 1 completed\n",
      "[*********************100%***********************]  1 of 1 completed\n",
      "[*********************100%***********************]  1 of 1 completed\n",
      "[*********************100%***********************]  1 of 1 completed\n",
      "[*********************100%***********************]  1 of 1 completed\n",
      "[*********************100%***********************]  1 of 1 completed"
     ]
    },
    {
     "name": "stderr",
     "output_type": "stream",
     "text": [
      "\n",
      "1 Failed download:\n",
      "['RTN']: Exception('%ticker%: No timezone found, symbol may be delisted')\n"
     ]
    },
    {
     "name": "stdout",
     "output_type": "stream",
     "text": [
      "\n",
      "[*********************100%***********************]  1 of 1 completed\n",
      "[*********************100%***********************]  1 of 1 completed\n",
      "[*********************100%***********************]  1 of 1 completed\n",
      "[*********************100%***********************]  1 of 1 completed\n",
      "[*********************100%***********************]  1 of 1 completed\n",
      "[*********************100%***********************]  1 of 1 completed\n",
      "[*********************100%***********************]  1 of 1 completed\n",
      "[*********************100%***********************]  1 of 1 completed\n",
      "[*********************100%***********************]  1 of 1 completed\n",
      "[*********************100%***********************]  1 of 1 completed\n",
      "[*********************100%***********************]  1 of 1 completed\n",
      "[*********************100%***********************]  1 of 1 completed\n",
      "[*********************100%***********************]  1 of 1 completed\n",
      "[*********************100%***********************]  1 of 1 completed\n",
      "[*********************100%***********************]  1 of 1 completed\n",
      "[*********************100%***********************]  1 of 1 completed\n",
      "[*********************100%***********************]  1 of 1 completed\n",
      "[*********************100%***********************]  1 of 1 completed\n",
      "[*********************100%***********************]  1 of 1 completed"
     ]
    },
    {
     "name": "stderr",
     "output_type": "stream",
     "text": [
      "\n",
      "1 Failed download:\n",
      "['STI']: Exception('%ticker%: No timezone found, symbol may be delisted')\n"
     ]
    },
    {
     "name": "stdout",
     "output_type": "stream",
     "text": [
      "\n",
      "[*********************100%***********************]  1 of 1 completed\n",
      "[*********************100%***********************]  1 of 1 completed\n",
      "[*********************100%***********************]  1 of 1 completed\n",
      "[*********************100%***********************]  1 of 1 completed\n",
      "[*********************100%***********************]  1 of 1 completed\n",
      "[*********************100%***********************]  1 of 1 completed\n",
      "[*********************100%***********************]  1 of 1 completed\n",
      "[*********************100%***********************]  1 of 1 completed"
     ]
    },
    {
     "name": "stderr",
     "output_type": "stream",
     "text": [
      "\n",
      "1 Failed download:\n",
      "['SYMC']: Exception('%ticker%: No timezone found, symbol may be delisted')\n"
     ]
    },
    {
     "name": "stdout",
     "output_type": "stream",
     "text": [
      "\n",
      "[*********************100%***********************]  1 of 1 completed\n",
      "[*********************100%***********************]  1 of 1 completed\n",
      "[*********************100%***********************]  1 of 1 completed\n",
      "[*********************100%***********************]  1 of 1 completed\n",
      "[*********************100%***********************]  1 of 1 completed\n",
      "[*********************100%***********************]  1 of 1 completed"
     ]
    },
    {
     "name": "stderr",
     "output_type": "stream",
     "text": [
      "\n",
      "1 Failed download:\n",
      "['TIF']: Exception('%ticker%: No timezone found, symbol may be delisted')\n"
     ]
    },
    {
     "name": "stdout",
     "output_type": "stream",
     "text": [
      "\n",
      "[*********************100%***********************]  1 of 1 completed\n",
      "[*********************100%***********************]  1 of 1 completed"
     ]
    },
    {
     "name": "stderr",
     "output_type": "stream",
     "text": [
      "\n",
      "1 Failed download:\n",
      "['TMK']: Exception('%ticker%: No timezone found, symbol may be delisted')\n"
     ]
    },
    {
     "name": "stdout",
     "output_type": "stream",
     "text": [
      "\n",
      "[*********************100%***********************]  1 of 1 completed\n",
      "[*********************100%***********************]  1 of 1 completed\n",
      "[*********************100%***********************]  1 of 1 completed\n",
      "[*********************100%***********************]  1 of 1 completed\n",
      "[*********************100%***********************]  1 of 1 completed\n",
      "[*********************100%***********************]  1 of 1 completed\n",
      "[*********************100%***********************]  1 of 1 completed\n",
      "[*********************100%***********************]  1 of 1 completed"
     ]
    },
    {
     "name": "stderr",
     "output_type": "stream",
     "text": [
      "\n",
      "1 Failed download:\n",
      "['TSS']: Exception('%ticker%: No timezone found, symbol may be delisted')\n"
     ]
    },
    {
     "name": "stdout",
     "output_type": "stream",
     "text": [
      "\n",
      "[*********************100%***********************]  1 of 1 completed\n",
      "[*********************100%***********************]  1 of 1 completed\n",
      "[*********************100%***********************]  1 of 1 completed\n",
      "[*********************100%***********************]  1 of 1 completed\n",
      "[*********************100%***********************]  1 of 1 completed\n",
      "[*********************100%***********************]  1 of 1 completed\n",
      "[*********************100%***********************]  1 of 1 completed\n",
      "[*********************100%***********************]  1 of 1 completed\n",
      "[*********************100%***********************]  1 of 1 completed\n",
      "[*********************100%***********************]  1 of 1 completed\n",
      "[*********************100%***********************]  1 of 1 completed\n",
      "[*********************100%***********************]  1 of 1 completed\n",
      "[*********************100%***********************]  1 of 1 completed\n",
      "[*********************100%***********************]  1 of 1 completed\n",
      "[*********************100%***********************]  1 of 1 completed\n",
      "[*********************100%***********************]  1 of 1 completed\n",
      "[*********************100%***********************]  1 of 1 completed"
     ]
    },
    {
     "name": "stderr",
     "output_type": "stream",
     "text": [
      "\n",
      "1 Failed download:\n",
      "['UTX']: Exception('%ticker%: No timezone found, symbol may be delisted')\n"
     ]
    },
    {
     "name": "stdout",
     "output_type": "stream",
     "text": [
      "\n",
      "\r",
      "[*********************100%***********************]  1 of 1 completed"
     ]
    },
    {
     "name": "stderr",
     "output_type": "stream",
     "text": [
      "\n",
      "1 Failed download:\n",
      "['VAR']: Exception('%ticker%: No timezone found, symbol may be delisted')\n"
     ]
    },
    {
     "name": "stdout",
     "output_type": "stream",
     "text": [
      "\n",
      "[*********************100%***********************]  1 of 1 completed\n",
      "[*********************100%***********************]  1 of 1 completed"
     ]
    },
    {
     "name": "stderr",
     "output_type": "stream",
     "text": [
      "\n",
      "1 Failed download:\n",
      "['VIAB']: Exception('%ticker%: No timezone found, symbol may be delisted')\n"
     ]
    },
    {
     "name": "stdout",
     "output_type": "stream",
     "text": [
      "\n",
      "[*********************100%***********************]  1 of 1 completed\n",
      "[*********************100%***********************]  1 of 1 completed\n",
      "[*********************100%***********************]  1 of 1 completed\n",
      "[*********************100%***********************]  1 of 1 completed\n",
      "[*********************100%***********************]  1 of 1 completed\n",
      "[*********************100%***********************]  1 of 1 completed\n",
      "[*********************100%***********************]  1 of 1 completed\n",
      "[*********************100%***********************]  1 of 1 completed\n",
      "[*********************100%***********************]  1 of 1 completed\n",
      "[*********************100%***********************]  1 of 1 completed\n",
      "[*********************100%***********************]  1 of 1 completed\n",
      "[*********************100%***********************]  1 of 1 completed\n",
      "[*********************100%***********************]  1 of 1 completed\n",
      "[*********************100%***********************]  1 of 1 completed\n",
      "[*********************100%***********************]  1 of 1 completed\n",
      "[*********************100%***********************]  1 of 1 completed"
     ]
    },
    {
     "name": "stderr",
     "output_type": "stream",
     "text": [
      "\n",
      "1 Failed download:\n",
      "['WLTW']: Exception('%ticker%: No timezone found, symbol may be delisted')\n"
     ]
    },
    {
     "name": "stdout",
     "output_type": "stream",
     "text": [
      "\n",
      "[*********************100%***********************]  1 of 1 completed\n",
      "[*********************100%***********************]  1 of 1 completed\n",
      "[*********************100%***********************]  1 of 1 completed\n",
      "[*********************100%***********************]  1 of 1 completed\n",
      "[*********************100%***********************]  1 of 1 completed\n",
      "[*********************100%***********************]  1 of 1 completed\n",
      "[*********************100%***********************]  1 of 1 completed"
     ]
    },
    {
     "name": "stderr",
     "output_type": "stream",
     "text": [
      "\n",
      "1 Failed download:\n",
      "['WYN']: Exception('%ticker%: No price data found, symbol may be delisted (1d 2010-02-08 -> 2023-02-07)')\n"
     ]
    },
    {
     "name": "stdout",
     "output_type": "stream",
     "text": [
      "\n",
      "[*********************100%***********************]  1 of 1 completed\n",
      "[*********************100%***********************]  1 of 1 completed"
     ]
    },
    {
     "name": "stderr",
     "output_type": "stream",
     "text": [
      "\n",
      "1 Failed download:\n",
      "['XEC']: Exception('%ticker%: No timezone found, symbol may be delisted')\n"
     ]
    },
    {
     "name": "stdout",
     "output_type": "stream",
     "text": [
      "\n",
      "[*********************100%***********************]  1 of 1 completed\n",
      "[*********************100%***********************]  1 of 1 completed"
     ]
    },
    {
     "name": "stderr",
     "output_type": "stream",
     "text": [
      "\n",
      "1 Failed download:\n",
      "['XLNX']: Exception('%ticker%: No timezone found, symbol may be delisted')\n"
     ]
    },
    {
     "name": "stdout",
     "output_type": "stream",
     "text": [
      "\n",
      "\r",
      "[*********************100%***********************]  1 of 1 completed"
     ]
    },
    {
     "name": "stderr",
     "output_type": "stream",
     "text": [
      "\n",
      "1 Failed download:\n",
      "['XL']: Exception('%ticker%: No timezone found, symbol may be delisted')\n"
     ]
    },
    {
     "name": "stdout",
     "output_type": "stream",
     "text": [
      "\n",
      "[*********************100%***********************]  1 of 1 completed\n",
      "[*********************100%***********************]  1 of 1 completed\n",
      "[*********************100%***********************]  1 of 1 completed\n",
      "[*********************100%***********************]  1 of 1 completed\n",
      "[*********************100%***********************]  1 of 1 completed\n",
      "[*********************100%***********************]  1 of 1 completed\n",
      "[*********************100%***********************]  1 of 1 completed\n",
      "[*********************100%***********************]  1 of 1 completed\n"
     ]
    }
   ],
   "source": [
    "start_date = \"2010-02-08\"\n",
    "end_date = \"2023-02-07\" \n",
    "\n",
    "sp500_close_prices = {}\n",
    "\n",
    "for ticker in all_tickers:\n",
    "    try:\n",
    "        data = yf.download(ticker, start=start_date, end=end_date)\n",
    "        sp500_close_prices[ticker] = data[\"Close\"]\n",
    "    except Exception as e:\n",
    "        print(f\"Error fetching data for {ticker}: {e}\")"
   ]
  },
  {
   "cell_type": "code",
   "execution_count": 15,
   "id": "113f7016",
   "metadata": {},
   "outputs": [
    {
     "data": {
      "text/html": [
       "<div>\n",
       "<style scoped>\n",
       "    .dataframe tbody tr th:only-of-type {\n",
       "        vertical-align: middle;\n",
       "    }\n",
       "\n",
       "    .dataframe tbody tr th {\n",
       "        vertical-align: top;\n",
       "    }\n",
       "\n",
       "    .dataframe thead th {\n",
       "        text-align: right;\n",
       "    }\n",
       "</style>\n",
       "<table border=\"1\" class=\"dataframe\">\n",
       "  <thead>\n",
       "    <tr style=\"text-align: right;\">\n",
       "      <th></th>\n",
       "      <th>AAL</th>\n",
       "      <th>AAPL</th>\n",
       "      <th>AAP</th>\n",
       "      <th>ABBV</th>\n",
       "      <th>ABC</th>\n",
       "      <th>ABT</th>\n",
       "      <th>ACN</th>\n",
       "      <th>ADBE</th>\n",
       "      <th>ADI</th>\n",
       "      <th>ADM</th>\n",
       "      <th>...</th>\n",
       "      <th>XLNX</th>\n",
       "      <th>XL</th>\n",
       "      <th>XOM</th>\n",
       "      <th>XRAY</th>\n",
       "      <th>XRX</th>\n",
       "      <th>XYL</th>\n",
       "      <th>YUM</th>\n",
       "      <th>ZBH</th>\n",
       "      <th>ZION</th>\n",
       "      <th>ZTS</th>\n",
       "    </tr>\n",
       "    <tr>\n",
       "      <th>Date</th>\n",
       "      <th></th>\n",
       "      <th></th>\n",
       "      <th></th>\n",
       "      <th></th>\n",
       "      <th></th>\n",
       "      <th></th>\n",
       "      <th></th>\n",
       "      <th></th>\n",
       "      <th></th>\n",
       "      <th></th>\n",
       "      <th></th>\n",
       "      <th></th>\n",
       "      <th></th>\n",
       "      <th></th>\n",
       "      <th></th>\n",
       "      <th></th>\n",
       "      <th></th>\n",
       "      <th></th>\n",
       "      <th></th>\n",
       "      <th></th>\n",
       "      <th></th>\n",
       "    </tr>\n",
       "  </thead>\n",
       "  <tbody>\n",
       "    <tr>\n",
       "      <th>2010-02-08</th>\n",
       "      <td>5.930000</td>\n",
       "      <td>6.932857</td>\n",
       "      <td>40.810001</td>\n",
       "      <td>NaN</td>\n",
       "      <td>26.950001</td>\n",
       "      <td>25.597330</td>\n",
       "      <td>40.169998</td>\n",
       "      <td>32.049999</td>\n",
       "      <td>26.799999</td>\n",
       "      <td>29.889999</td>\n",
       "      <td>...</td>\n",
       "      <td>NaN</td>\n",
       "      <td>NaN</td>\n",
       "      <td>64.349998</td>\n",
       "      <td>33.099998</td>\n",
       "      <td>22.266140</td>\n",
       "      <td>NaN</td>\n",
       "      <td>23.522646</td>\n",
       "      <td>53.805824</td>\n",
       "      <td>17.990000</td>\n",
       "      <td>NaN</td>\n",
       "    </tr>\n",
       "    <tr>\n",
       "      <th>2010-02-09</th>\n",
       "      <td>6.440000</td>\n",
       "      <td>7.006786</td>\n",
       "      <td>41.570000</td>\n",
       "      <td>NaN</td>\n",
       "      <td>27.160000</td>\n",
       "      <td>25.597330</td>\n",
       "      <td>40.240002</td>\n",
       "      <td>32.310001</td>\n",
       "      <td>27.120001</td>\n",
       "      <td>29.910000</td>\n",
       "      <td>...</td>\n",
       "      <td>NaN</td>\n",
       "      <td>NaN</td>\n",
       "      <td>65.199997</td>\n",
       "      <td>33.939999</td>\n",
       "      <td>22.081686</td>\n",
       "      <td>NaN</td>\n",
       "      <td>23.774263</td>\n",
       "      <td>54.446602</td>\n",
       "      <td>18.209999</td>\n",
       "      <td>NaN</td>\n",
       "    </tr>\n",
       "    <tr>\n",
       "      <th>2010-02-10</th>\n",
       "      <td>6.310000</td>\n",
       "      <td>6.968571</td>\n",
       "      <td>42.330002</td>\n",
       "      <td>NaN</td>\n",
       "      <td>27.190001</td>\n",
       "      <td>25.554148</td>\n",
       "      <td>40.020000</td>\n",
       "      <td>32.759998</td>\n",
       "      <td>27.049999</td>\n",
       "      <td>29.990000</td>\n",
       "      <td>...</td>\n",
       "      <td>NaN</td>\n",
       "      <td>NaN</td>\n",
       "      <td>64.849998</td>\n",
       "      <td>33.790001</td>\n",
       "      <td>22.266140</td>\n",
       "      <td>NaN</td>\n",
       "      <td>23.838964</td>\n",
       "      <td>55.029125</td>\n",
       "      <td>18.520000</td>\n",
       "      <td>NaN</td>\n",
       "    </tr>\n",
       "    <tr>\n",
       "      <th>2010-02-11</th>\n",
       "      <td>6.320000</td>\n",
       "      <td>7.095357</td>\n",
       "      <td>42.549999</td>\n",
       "      <td>NaN</td>\n",
       "      <td>27.520000</td>\n",
       "      <td>25.688492</td>\n",
       "      <td>40.270000</td>\n",
       "      <td>32.639999</td>\n",
       "      <td>27.670000</td>\n",
       "      <td>30.030001</td>\n",
       "      <td>...</td>\n",
       "      <td>NaN</td>\n",
       "      <td>NaN</td>\n",
       "      <td>65.239998</td>\n",
       "      <td>33.009998</td>\n",
       "      <td>23.083004</td>\n",
       "      <td>NaN</td>\n",
       "      <td>24.004313</td>\n",
       "      <td>55.922329</td>\n",
       "      <td>18.170000</td>\n",
       "      <td>NaN</td>\n",
       "    </tr>\n",
       "    <tr>\n",
       "      <th>2010-02-12</th>\n",
       "      <td>6.810000</td>\n",
       "      <td>7.156429</td>\n",
       "      <td>42.810001</td>\n",
       "      <td>NaN</td>\n",
       "      <td>27.350000</td>\n",
       "      <td>25.875614</td>\n",
       "      <td>40.490002</td>\n",
       "      <td>31.450001</td>\n",
       "      <td>27.990000</td>\n",
       "      <td>29.770000</td>\n",
       "      <td>...</td>\n",
       "      <td>NaN</td>\n",
       "      <td>NaN</td>\n",
       "      <td>64.800003</td>\n",
       "      <td>32.639999</td>\n",
       "      <td>23.109354</td>\n",
       "      <td>NaN</td>\n",
       "      <td>23.982746</td>\n",
       "      <td>55.572815</td>\n",
       "      <td>17.850000</td>\n",
       "      <td>NaN</td>\n",
       "    </tr>\n",
       "    <tr>\n",
       "      <th>...</th>\n",
       "      <td>...</td>\n",
       "      <td>...</td>\n",
       "      <td>...</td>\n",
       "      <td>...</td>\n",
       "      <td>...</td>\n",
       "      <td>...</td>\n",
       "      <td>...</td>\n",
       "      <td>...</td>\n",
       "      <td>...</td>\n",
       "      <td>...</td>\n",
       "      <td>...</td>\n",
       "      <td>...</td>\n",
       "      <td>...</td>\n",
       "      <td>...</td>\n",
       "      <td>...</td>\n",
       "      <td>...</td>\n",
       "      <td>...</td>\n",
       "      <td>...</td>\n",
       "      <td>...</td>\n",
       "      <td>...</td>\n",
       "      <td>...</td>\n",
       "    </tr>\n",
       "    <tr>\n",
       "      <th>2023-01-31</th>\n",
       "      <td>16.139999</td>\n",
       "      <td>144.289993</td>\n",
       "      <td>152.279999</td>\n",
       "      <td>147.750000</td>\n",
       "      <td>168.960007</td>\n",
       "      <td>110.550003</td>\n",
       "      <td>279.049988</td>\n",
       "      <td>370.339996</td>\n",
       "      <td>171.470001</td>\n",
       "      <td>82.849998</td>\n",
       "      <td>...</td>\n",
       "      <td>NaN</td>\n",
       "      <td>NaN</td>\n",
       "      <td>116.010002</td>\n",
       "      <td>36.830002</td>\n",
       "      <td>16.379999</td>\n",
       "      <td>104.010002</td>\n",
       "      <td>130.509995</td>\n",
       "      <td>127.339996</td>\n",
       "      <td>53.160000</td>\n",
       "      <td>165.490005</td>\n",
       "    </tr>\n",
       "    <tr>\n",
       "      <th>2023-02-01</th>\n",
       "      <td>16.690001</td>\n",
       "      <td>145.429993</td>\n",
       "      <td>156.839996</td>\n",
       "      <td>146.600006</td>\n",
       "      <td>161.050003</td>\n",
       "      <td>111.820000</td>\n",
       "      <td>283.600006</td>\n",
       "      <td>383.920013</td>\n",
       "      <td>176.589996</td>\n",
       "      <td>83.370003</td>\n",
       "      <td>...</td>\n",
       "      <td>NaN</td>\n",
       "      <td>NaN</td>\n",
       "      <td>114.739998</td>\n",
       "      <td>37.480000</td>\n",
       "      <td>16.700001</td>\n",
       "      <td>104.919998</td>\n",
       "      <td>129.009995</td>\n",
       "      <td>127.800003</td>\n",
       "      <td>53.389999</td>\n",
       "      <td>167.809998</td>\n",
       "    </tr>\n",
       "    <tr>\n",
       "      <th>2023-02-02</th>\n",
       "      <td>17.059999</td>\n",
       "      <td>150.820007</td>\n",
       "      <td>155.240005</td>\n",
       "      <td>144.839996</td>\n",
       "      <td>158.470001</td>\n",
       "      <td>112.250000</td>\n",
       "      <td>294.100006</td>\n",
       "      <td>392.230011</td>\n",
       "      <td>179.300003</td>\n",
       "      <td>82.309998</td>\n",
       "      <td>...</td>\n",
       "      <td>NaN</td>\n",
       "      <td>NaN</td>\n",
       "      <td>111.150002</td>\n",
       "      <td>39.660000</td>\n",
       "      <td>16.889999</td>\n",
       "      <td>105.930000</td>\n",
       "      <td>128.210007</td>\n",
       "      <td>127.410004</td>\n",
       "      <td>54.290001</td>\n",
       "      <td>171.000000</td>\n",
       "    </tr>\n",
       "    <tr>\n",
       "      <th>2023-02-03</th>\n",
       "      <td>17.020000</td>\n",
       "      <td>154.500000</td>\n",
       "      <td>152.169998</td>\n",
       "      <td>145.199997</td>\n",
       "      <td>156.729996</td>\n",
       "      <td>111.790001</td>\n",
       "      <td>289.220001</td>\n",
       "      <td>379.329987</td>\n",
       "      <td>178.820007</td>\n",
       "      <td>82.279999</td>\n",
       "      <td>...</td>\n",
       "      <td>NaN</td>\n",
       "      <td>NaN</td>\n",
       "      <td>111.919998</td>\n",
       "      <td>38.439999</td>\n",
       "      <td>16.959999</td>\n",
       "      <td>105.250000</td>\n",
       "      <td>127.010002</td>\n",
       "      <td>129.449997</td>\n",
       "      <td>54.410000</td>\n",
       "      <td>167.800003</td>\n",
       "    </tr>\n",
       "    <tr>\n",
       "      <th>2023-02-06</th>\n",
       "      <td>16.920000</td>\n",
       "      <td>151.729996</td>\n",
       "      <td>151.669998</td>\n",
       "      <td>145.020004</td>\n",
       "      <td>154.490005</td>\n",
       "      <td>110.750000</td>\n",
       "      <td>284.480011</td>\n",
       "      <td>375.230011</td>\n",
       "      <td>177.550003</td>\n",
       "      <td>82.559998</td>\n",
       "      <td>...</td>\n",
       "      <td>NaN</td>\n",
       "      <td>NaN</td>\n",
       "      <td>111.730003</td>\n",
       "      <td>38.090000</td>\n",
       "      <td>16.740000</td>\n",
       "      <td>104.050003</td>\n",
       "      <td>129.059998</td>\n",
       "      <td>128.520004</td>\n",
       "      <td>54.099998</td>\n",
       "      <td>164.929993</td>\n",
       "    </tr>\n",
       "  </tbody>\n",
       "</table>\n",
       "<p>3272 rows × 505 columns</p>\n",
       "</div>"
      ],
      "text/plain": [
       "                  AAL        AAPL         AAP        ABBV         ABC  \\\n",
       "Date                                                                    \n",
       "2010-02-08   5.930000    6.932857   40.810001         NaN   26.950001   \n",
       "2010-02-09   6.440000    7.006786   41.570000         NaN   27.160000   \n",
       "2010-02-10   6.310000    6.968571   42.330002         NaN   27.190001   \n",
       "2010-02-11   6.320000    7.095357   42.549999         NaN   27.520000   \n",
       "2010-02-12   6.810000    7.156429   42.810001         NaN   27.350000   \n",
       "...               ...         ...         ...         ...         ...   \n",
       "2023-01-31  16.139999  144.289993  152.279999  147.750000  168.960007   \n",
       "2023-02-01  16.690001  145.429993  156.839996  146.600006  161.050003   \n",
       "2023-02-02  17.059999  150.820007  155.240005  144.839996  158.470001   \n",
       "2023-02-03  17.020000  154.500000  152.169998  145.199997  156.729996   \n",
       "2023-02-06  16.920000  151.729996  151.669998  145.020004  154.490005   \n",
       "\n",
       "                   ABT         ACN        ADBE         ADI        ADM  ...  \\\n",
       "Date                                                                   ...   \n",
       "2010-02-08   25.597330   40.169998   32.049999   26.799999  29.889999  ...   \n",
       "2010-02-09   25.597330   40.240002   32.310001   27.120001  29.910000  ...   \n",
       "2010-02-10   25.554148   40.020000   32.759998   27.049999  29.990000  ...   \n",
       "2010-02-11   25.688492   40.270000   32.639999   27.670000  30.030001  ...   \n",
       "2010-02-12   25.875614   40.490002   31.450001   27.990000  29.770000  ...   \n",
       "...                ...         ...         ...         ...        ...  ...   \n",
       "2023-01-31  110.550003  279.049988  370.339996  171.470001  82.849998  ...   \n",
       "2023-02-01  111.820000  283.600006  383.920013  176.589996  83.370003  ...   \n",
       "2023-02-02  112.250000  294.100006  392.230011  179.300003  82.309998  ...   \n",
       "2023-02-03  111.790001  289.220001  379.329987  178.820007  82.279999  ...   \n",
       "2023-02-06  110.750000  284.480011  375.230011  177.550003  82.559998  ...   \n",
       "\n",
       "            XLNX  XL         XOM       XRAY        XRX         XYL  \\\n",
       "Date                                                                 \n",
       "2010-02-08   NaN NaN   64.349998  33.099998  22.266140         NaN   \n",
       "2010-02-09   NaN NaN   65.199997  33.939999  22.081686         NaN   \n",
       "2010-02-10   NaN NaN   64.849998  33.790001  22.266140         NaN   \n",
       "2010-02-11   NaN NaN   65.239998  33.009998  23.083004         NaN   \n",
       "2010-02-12   NaN NaN   64.800003  32.639999  23.109354         NaN   \n",
       "...          ...  ..         ...        ...        ...         ...   \n",
       "2023-01-31   NaN NaN  116.010002  36.830002  16.379999  104.010002   \n",
       "2023-02-01   NaN NaN  114.739998  37.480000  16.700001  104.919998   \n",
       "2023-02-02   NaN NaN  111.150002  39.660000  16.889999  105.930000   \n",
       "2023-02-03   NaN NaN  111.919998  38.439999  16.959999  105.250000   \n",
       "2023-02-06   NaN NaN  111.730003  38.090000  16.740000  104.050003   \n",
       "\n",
       "                   YUM         ZBH       ZION         ZTS  \n",
       "Date                                                       \n",
       "2010-02-08   23.522646   53.805824  17.990000         NaN  \n",
       "2010-02-09   23.774263   54.446602  18.209999         NaN  \n",
       "2010-02-10   23.838964   55.029125  18.520000         NaN  \n",
       "2010-02-11   24.004313   55.922329  18.170000         NaN  \n",
       "2010-02-12   23.982746   55.572815  17.850000         NaN  \n",
       "...                ...         ...        ...         ...  \n",
       "2023-01-31  130.509995  127.339996  53.160000  165.490005  \n",
       "2023-02-01  129.009995  127.800003  53.389999  167.809998  \n",
       "2023-02-02  128.210007  127.410004  54.290001  171.000000  \n",
       "2023-02-03  127.010002  129.449997  54.410000  167.800003  \n",
       "2023-02-06  129.059998  128.520004  54.099998  164.929993  \n",
       "\n",
       "[3272 rows x 505 columns]"
      ]
     },
     "execution_count": 15,
     "metadata": {},
     "output_type": "execute_result"
    }
   ],
   "source": [
    "# Step 1: Concatenate all DataFrames into a single DataFrame\n",
    "all_close_prices_df = pd.concat(sp500_close_prices.values(), axis=1, keys=all_tickers)\n",
    "#all_close_prices_df.reset_index(inplace=True)\n",
    "all_close_prices_df"
   ]
  },
  {
   "cell_type": "markdown",
   "id": "61e33449",
   "metadata": {},
   "source": [
    "##### 1.1.2 Data preparation"
   ]
  },
  {
   "cell_type": "code",
   "execution_count": 16,
   "id": "bf36555c",
   "metadata": {},
   "outputs": [],
   "source": [
    "#First, we will drop the columns with NaN because they are the assets that were removed\n",
    "#or added to the S&P and we want to use consistent assets\n",
    "#Drop columns with any null (NaN) values\n",
    "sp500raw = all_close_prices_df.dropna(axis=1)"
   ]
  },
  {
   "cell_type": "code",
   "execution_count": 17,
   "id": "f9425dad",
   "metadata": {},
   "outputs": [],
   "source": [
    "#Transform date column into datetime\n",
    "sp500raw.index = pd.to_datetime(sp500raw.index)"
   ]
  },
  {
   "cell_type": "code",
   "execution_count": 18,
   "id": "52f95915",
   "metadata": {
    "scrolled": true
   },
   "outputs": [],
   "source": [
    "#Add the close suffix that will be important later.\n",
    "sp500raw.columns += '_close'"
   ]
  },
  {
   "cell_type": "markdown",
   "id": "647133c7",
   "metadata": {},
   "source": [
    "##### 1.1.3 S&P500 - Missing values and dates"
   ]
  },
  {
   "cell_type": "code",
   "execution_count": 19,
   "id": "37923928",
   "metadata": {},
   "outputs": [
    {
     "data": {
      "text/plain": [
       "DatetimeIndex(['2010-02-08', '2010-02-09', '2010-02-10', '2010-02-11',\n",
       "               '2010-02-12', '2010-02-16', '2010-02-17', '2010-02-18',\n",
       "               '2010-02-19', '2010-02-22',\n",
       "               ...\n",
       "               '2023-01-24', '2023-01-25', '2023-01-26', '2023-01-27',\n",
       "               '2023-01-30', '2023-01-31', '2023-02-01', '2023-02-02',\n",
       "               '2023-02-03', '2023-02-06'],\n",
       "              dtype='datetime64[ns]', name='Date', length=3272, freq=None)"
      ]
     },
     "execution_count": 19,
     "metadata": {},
     "output_type": "execute_result"
    }
   ],
   "source": [
    "# dates go from 2013-02-08 to 2018-02-07\n",
    "sp500raw.index"
   ]
  },
  {
   "cell_type": "code",
   "execution_count": 20,
   "id": "aea99a0f",
   "metadata": {},
   "outputs": [
    {
     "data": {
      "text/plain": [
       "AAL_close     0\n",
       "AAPL_close    0\n",
       "AAP_close     0\n",
       "ABC_close     0\n",
       "ABT_close     0\n",
       "             ..\n",
       "XRAY_close    0\n",
       "XRX_close     0\n",
       "YUM_close     0\n",
       "ZBH_close     0\n",
       "ZION_close    0\n",
       "Length: 396, dtype: int64"
      ]
     },
     "execution_count": 20,
     "metadata": {},
     "output_type": "execute_result"
    }
   ],
   "source": [
    "#we know that there are no NaNs values, only missing dates.\n",
    "sp500raw.isna().sum()"
   ]
  },
  {
   "cell_type": "code",
   "execution_count": 21,
   "id": "e90f3553",
   "metadata": {},
   "outputs": [
    {
     "data": {
      "text/plain": [
       "DatetimeIndex(['2010-02-13', '2010-02-14', '2010-02-15', '2010-02-20',\n",
       "               '2010-02-21', '2010-02-27', '2010-02-28', '2010-03-06',\n",
       "               '2010-03-07', '2010-03-13',\n",
       "               ...\n",
       "               '2023-01-08', '2023-01-14', '2023-01-15', '2023-01-16',\n",
       "               '2023-01-21', '2023-01-22', '2023-01-28', '2023-01-29',\n",
       "               '2023-02-04', '2023-02-05'],\n",
       "              dtype='datetime64[ns]', length=1475, freq=None)"
      ]
     },
     "execution_count": 21,
     "metadata": {},
     "output_type": "execute_result"
    }
   ],
   "source": [
    "#Financial data doesnt include weekends and holidays.\n",
    "#To be consistent with all the other data bases we will make the missing dates values equal to the previous ones.\n",
    "#We will use forward filling\n",
    "first_day = sp500raw.index.min()\n",
    "last_day = sp500raw.index.max()\n",
    "full_range = pd.date_range(start=first_day, end=last_day, freq=\"D\")\n",
    "full_range.difference(sp500raw.index)\n"
   ]
  },
  {
   "cell_type": "code",
   "execution_count": 22,
   "id": "ac228241",
   "metadata": {},
   "outputs": [
    {
     "data": {
      "text/plain": [
       "(4747, 396)"
      ]
     },
     "execution_count": 22,
     "metadata": {},
     "output_type": "execute_result"
    }
   ],
   "source": [
    "sp500=sp500raw.asfreq('D')\n",
    "sp500.fillna(method='ffill',inplace=True)\n",
    "sp500.rename(columns={'Date':'date'},inplace=True)\n",
    "sp500.shape"
   ]
  },
  {
   "cell_type": "code",
   "execution_count": 23,
   "id": "40115426",
   "metadata": {},
   "outputs": [
    {
     "name": "stdout",
     "output_type": "stream",
     "text": [
      "<class 'pandas.core.frame.DataFrame'>\n",
      "DatetimeIndex: 4747 entries, 2010-02-08 to 2023-02-06\n",
      "Freq: D\n",
      "Columns: 396 entries, AAL_close to ZION_close\n",
      "dtypes: float64(396)\n",
      "memory usage: 14.4 MB\n"
     ]
    }
   ],
   "source": [
    "sp500.info()"
   ]
  },
  {
   "cell_type": "markdown",
   "id": "80dcafae",
   "metadata": {},
   "source": [
    "### 1.2 DowJones Industrial"
   ]
  },
  {
   "cell_type": "markdown",
   "id": "2c739310",
   "metadata": {},
   "source": [
    "##### 1.2.1 DJindustrial - Get the data"
   ]
  },
  {
   "cell_type": "code",
   "execution_count": 24,
   "id": "056045f3",
   "metadata": {},
   "outputs": [
    {
     "name": "stdout",
     "output_type": "stream",
     "text": [
      "[*********************100%***********************]  1 of 1 completed\n"
     ]
    }
   ],
   "source": [
    "dowjones_index = \"^DJI\"\n",
    "start_date = \"2010-02-07\"\n",
    "end_date = \"2023-02-08\"\n",
    "\n",
    "dowjones_data = yf.download(dowjones_index, start=start_date, end=end_date)"
   ]
  },
  {
   "cell_type": "code",
   "execution_count": 25,
   "id": "6709ce6b",
   "metadata": {
    "scrolled": true
   },
   "outputs": [
    {
     "data": {
      "text/html": [
       "<div>\n",
       "<style scoped>\n",
       "    .dataframe tbody tr th:only-of-type {\n",
       "        vertical-align: middle;\n",
       "    }\n",
       "\n",
       "    .dataframe tbody tr th {\n",
       "        vertical-align: top;\n",
       "    }\n",
       "\n",
       "    .dataframe thead th {\n",
       "        text-align: right;\n",
       "    }\n",
       "</style>\n",
       "<table border=\"1\" class=\"dataframe\">\n",
       "  <thead>\n",
       "    <tr style=\"text-align: right;\">\n",
       "      <th></th>\n",
       "      <th>Open</th>\n",
       "      <th>High</th>\n",
       "      <th>Low</th>\n",
       "      <th>Close</th>\n",
       "      <th>Adj Close</th>\n",
       "      <th>Volume</th>\n",
       "    </tr>\n",
       "    <tr>\n",
       "      <th>Date</th>\n",
       "      <th></th>\n",
       "      <th></th>\n",
       "      <th></th>\n",
       "      <th></th>\n",
       "      <th></th>\n",
       "      <th></th>\n",
       "    </tr>\n",
       "  </thead>\n",
       "  <tbody>\n",
       "    <tr>\n",
       "      <th>2010-02-08</th>\n",
       "      <td>10005.429688</td>\n",
       "      <td>10028.559570</td>\n",
       "      <td>9904.089844</td>\n",
       "      <td>9908.389648</td>\n",
       "      <td>9908.389648</td>\n",
       "      <td>216270000</td>\n",
       "    </tr>\n",
       "    <tr>\n",
       "      <th>2010-02-09</th>\n",
       "      <td>9910.280273</td>\n",
       "      <td>10139.429688</td>\n",
       "      <td>9910.059570</td>\n",
       "      <td>10058.639648</td>\n",
       "      <td>10058.639648</td>\n",
       "      <td>236210000</td>\n",
       "    </tr>\n",
       "    <tr>\n",
       "      <th>2010-02-10</th>\n",
       "      <td>10055.459961</td>\n",
       "      <td>10085.540039</td>\n",
       "      <td>9962.959961</td>\n",
       "      <td>10038.379883</td>\n",
       "      <td>10038.379883</td>\n",
       "      <td>178600000</td>\n",
       "    </tr>\n",
       "    <tr>\n",
       "      <th>2010-02-11</th>\n",
       "      <td>10037.849609</td>\n",
       "      <td>10161.570312</td>\n",
       "      <td>9976.709961</td>\n",
       "      <td>10144.190430</td>\n",
       "      <td>10144.190430</td>\n",
       "      <td>194470000</td>\n",
       "    </tr>\n",
       "    <tr>\n",
       "      <th>2010-02-12</th>\n",
       "      <td>10137.230469</td>\n",
       "      <td>10137.389648</td>\n",
       "      <td>9983.820312</td>\n",
       "      <td>10099.139648</td>\n",
       "      <td>10099.139648</td>\n",
       "      <td>296510000</td>\n",
       "    </tr>\n",
       "    <tr>\n",
       "      <th>...</th>\n",
       "      <td>...</td>\n",
       "      <td>...</td>\n",
       "      <td>...</td>\n",
       "      <td>...</td>\n",
       "      <td>...</td>\n",
       "      <td>...</td>\n",
       "    </tr>\n",
       "    <tr>\n",
       "      <th>2023-02-01</th>\n",
       "      <td>34039.601562</td>\n",
       "      <td>34334.699219</td>\n",
       "      <td>33581.421875</td>\n",
       "      <td>34092.960938</td>\n",
       "      <td>34092.960938</td>\n",
       "      <td>370120000</td>\n",
       "    </tr>\n",
       "    <tr>\n",
       "      <th>2023-02-02</th>\n",
       "      <td>34129.300781</td>\n",
       "      <td>34145.140625</td>\n",
       "      <td>33814.781250</td>\n",
       "      <td>34053.941406</td>\n",
       "      <td>34053.941406</td>\n",
       "      <td>429910000</td>\n",
       "    </tr>\n",
       "    <tr>\n",
       "      <th>2023-02-03</th>\n",
       "      <td>33926.300781</td>\n",
       "      <td>34179.578125</td>\n",
       "      <td>33813.859375</td>\n",
       "      <td>33926.011719</td>\n",
       "      <td>33926.011719</td>\n",
       "      <td>425150000</td>\n",
       "    </tr>\n",
       "    <tr>\n",
       "      <th>2023-02-06</th>\n",
       "      <td>33874.441406</td>\n",
       "      <td>33962.839844</td>\n",
       "      <td>33683.578125</td>\n",
       "      <td>33891.019531</td>\n",
       "      <td>33891.019531</td>\n",
       "      <td>296400000</td>\n",
       "    </tr>\n",
       "    <tr>\n",
       "      <th>2023-02-07</th>\n",
       "      <td>33769.781250</td>\n",
       "      <td>34240.000000</td>\n",
       "      <td>33634.101562</td>\n",
       "      <td>34156.691406</td>\n",
       "      <td>34156.691406</td>\n",
       "      <td>361620000</td>\n",
       "    </tr>\n",
       "  </tbody>\n",
       "</table>\n",
       "<p>3273 rows × 6 columns</p>\n",
       "</div>"
      ],
      "text/plain": [
       "                    Open          High           Low         Close  \\\n",
       "Date                                                                 \n",
       "2010-02-08  10005.429688  10028.559570   9904.089844   9908.389648   \n",
       "2010-02-09   9910.280273  10139.429688   9910.059570  10058.639648   \n",
       "2010-02-10  10055.459961  10085.540039   9962.959961  10038.379883   \n",
       "2010-02-11  10037.849609  10161.570312   9976.709961  10144.190430   \n",
       "2010-02-12  10137.230469  10137.389648   9983.820312  10099.139648   \n",
       "...                  ...           ...           ...           ...   \n",
       "2023-02-01  34039.601562  34334.699219  33581.421875  34092.960938   \n",
       "2023-02-02  34129.300781  34145.140625  33814.781250  34053.941406   \n",
       "2023-02-03  33926.300781  34179.578125  33813.859375  33926.011719   \n",
       "2023-02-06  33874.441406  33962.839844  33683.578125  33891.019531   \n",
       "2023-02-07  33769.781250  34240.000000  33634.101562  34156.691406   \n",
       "\n",
       "               Adj Close     Volume  \n",
       "Date                                 \n",
       "2010-02-08   9908.389648  216270000  \n",
       "2010-02-09  10058.639648  236210000  \n",
       "2010-02-10  10038.379883  178600000  \n",
       "2010-02-11  10144.190430  194470000  \n",
       "2010-02-12  10099.139648  296510000  \n",
       "...                  ...        ...  \n",
       "2023-02-01  34092.960938  370120000  \n",
       "2023-02-02  34053.941406  429910000  \n",
       "2023-02-03  33926.011719  425150000  \n",
       "2023-02-06  33891.019531  296400000  \n",
       "2023-02-07  34156.691406  361620000  \n",
       "\n",
       "[3273 rows x 6 columns]"
      ]
     },
     "execution_count": 25,
     "metadata": {},
     "output_type": "execute_result"
    }
   ],
   "source": [
    "dowjones_data"
   ]
  },
  {
   "cell_type": "markdown",
   "id": "790c4392",
   "metadata": {},
   "source": [
    "##### 1.2.2 DJindustrial - Data preparation"
   ]
  },
  {
   "cell_type": "code",
   "execution_count": 26,
   "id": "05933cde",
   "metadata": {},
   "outputs": [
    {
     "data": {
      "text/html": [
       "<div>\n",
       "<style scoped>\n",
       "    .dataframe tbody tr th:only-of-type {\n",
       "        vertical-align: middle;\n",
       "    }\n",
       "\n",
       "    .dataframe tbody tr th {\n",
       "        vertical-align: top;\n",
       "    }\n",
       "\n",
       "    .dataframe thead th {\n",
       "        text-align: right;\n",
       "    }\n",
       "</style>\n",
       "<table border=\"1\" class=\"dataframe\">\n",
       "  <thead>\n",
       "    <tr style=\"text-align: right;\">\n",
       "      <th></th>\n",
       "      <th>dj_close</th>\n",
       "      <th>dj_volume</th>\n",
       "    </tr>\n",
       "    <tr>\n",
       "      <th>Date</th>\n",
       "      <th></th>\n",
       "      <th></th>\n",
       "    </tr>\n",
       "  </thead>\n",
       "  <tbody>\n",
       "    <tr>\n",
       "      <th>2010-02-08</th>\n",
       "      <td>9908.389648</td>\n",
       "      <td>216270000</td>\n",
       "    </tr>\n",
       "  </tbody>\n",
       "</table>\n",
       "</div>"
      ],
      "text/plain": [
       "               dj_close  dj_volume\n",
       "Date                              \n",
       "2010-02-08  9908.389648  216270000"
      ]
     },
     "execution_count": 26,
     "metadata": {},
     "output_type": "execute_result"
    }
   ],
   "source": [
    "#we will only use volume and close price\n",
    "dowjones_data = dowjones_data.drop(columns=['Open','High','Low','Adj Close'])\n",
    "#Transform date column into datetime\n",
    "dowjones_data.index = pd.to_datetime(dowjones_data.index)\n",
    "dowjones_data.rename(columns={'Date':'date','Close':'dj_close','Volume':'dj_volume'},inplace=True)\n",
    "dowjones_data.head(1)"
   ]
  },
  {
   "cell_type": "code",
   "execution_count": 27,
   "id": "47042f85",
   "metadata": {},
   "outputs": [
    {
     "name": "stdout",
     "output_type": "stream",
     "text": [
      "<class 'pandas.core.frame.DataFrame'>\n",
      "DatetimeIndex: 3273 entries, 2010-02-08 to 2023-02-07\n",
      "Data columns (total 2 columns):\n",
      " #   Column     Non-Null Count  Dtype  \n",
      "---  ------     --------------  -----  \n",
      " 0   dj_close   3273 non-null   float64\n",
      " 1   dj_volume  3273 non-null   int64  \n",
      "dtypes: float64(1), int64(1)\n",
      "memory usage: 76.7 KB\n"
     ]
    }
   ],
   "source": [
    "dowjones_data.info()"
   ]
  },
  {
   "cell_type": "markdown",
   "id": "37756a28",
   "metadata": {},
   "source": [
    "##### 1.2.3 DJindustrial - Missing values and dates"
   ]
  },
  {
   "cell_type": "code",
   "execution_count": 28,
   "id": "b05ec87a",
   "metadata": {},
   "outputs": [
    {
     "data": {
      "text/plain": [
       "DatetimeIndex(['2010-02-13', '2010-02-14', '2010-02-15', '2010-02-20',\n",
       "               '2010-02-21', '2010-02-27', '2010-02-28', '2010-03-06',\n",
       "               '2010-03-07', '2010-03-13',\n",
       "               ...\n",
       "               '2023-01-08', '2023-01-14', '2023-01-15', '2023-01-16',\n",
       "               '2023-01-21', '2023-01-22', '2023-01-28', '2023-01-29',\n",
       "               '2023-02-04', '2023-02-05'],\n",
       "              dtype='datetime64[ns]', length=1475, freq=None)"
      ]
     },
     "execution_count": 28,
     "metadata": {},
     "output_type": "execute_result"
    }
   ],
   "source": [
    "full_range.difference(dowjones_data.index)"
   ]
  },
  {
   "cell_type": "code",
   "execution_count": 29,
   "id": "6d4c63d1",
   "metadata": {},
   "outputs": [],
   "source": [
    "# Fill in the holidays and weekend\n",
    "djindustrial=dowjones_data.reindex(full_range)\n",
    "djindustrial.fillna(method='ffill',inplace=True)"
   ]
  },
  {
   "cell_type": "code",
   "execution_count": 30,
   "id": "9eb370d0",
   "metadata": {},
   "outputs": [
    {
     "data": {
      "text/plain": [
       "dj_close     0\n",
       "dj_volume    0\n",
       "dtype: int64"
      ]
     },
     "execution_count": 30,
     "metadata": {},
     "output_type": "execute_result"
    }
   ],
   "source": [
    "djindustrial.isna().sum()"
   ]
  },
  {
   "cell_type": "code",
   "execution_count": 31,
   "id": "76264fc7",
   "metadata": {},
   "outputs": [
    {
     "name": "stdout",
     "output_type": "stream",
     "text": [
      "<class 'pandas.core.frame.DataFrame'>\n",
      "DatetimeIndex: 4747 entries, 2010-02-08 to 2023-02-06\n",
      "Freq: D\n",
      "Data columns (total 2 columns):\n",
      " #   Column     Non-Null Count  Dtype  \n",
      "---  ------     --------------  -----  \n",
      " 0   dj_close   4747 non-null   float64\n",
      " 1   dj_volume  4747 non-null   float64\n",
      "dtypes: float64(2)\n",
      "memory usage: 240.3 KB\n"
     ]
    }
   ],
   "source": [
    "djindustrial.info()"
   ]
  },
  {
   "cell_type": "markdown",
   "id": "c0c0807a",
   "metadata": {},
   "source": [
    "### 1.3 FED Interest Rates"
   ]
  },
  {
   "cell_type": "markdown",
   "id": "5dfcc613",
   "metadata": {},
   "source": [
    "##### 1.3.1 Interest rates - Get the data"
   ]
  },
  {
   "cell_type": "code",
   "execution_count": 32,
   "id": "121f513f",
   "metadata": {},
   "outputs": [],
   "source": [
    "# Set the start and end dates for the data\n",
    "start_date = \"2010-02-07\"\n",
    "end_date = \"2023-02-08\"\n",
    "\n",
    "# Fetch the 10-year US Treasury Yield from FRED\n",
    "us10y_yield = pdr.data.DataReader('DGS10', 'fred', start_date, end_date)"
   ]
  },
  {
   "cell_type": "code",
   "execution_count": 33,
   "id": "6838d7d9",
   "metadata": {},
   "outputs": [
    {
     "data": {
      "text/html": [
       "<div>\n",
       "<style scoped>\n",
       "    .dataframe tbody tr th:only-of-type {\n",
       "        vertical-align: middle;\n",
       "    }\n",
       "\n",
       "    .dataframe tbody tr th {\n",
       "        vertical-align: top;\n",
       "    }\n",
       "\n",
       "    .dataframe thead th {\n",
       "        text-align: right;\n",
       "    }\n",
       "</style>\n",
       "<table border=\"1\" class=\"dataframe\">\n",
       "  <thead>\n",
       "    <tr style=\"text-align: right;\">\n",
       "      <th></th>\n",
       "      <th>DGS10</th>\n",
       "    </tr>\n",
       "    <tr>\n",
       "      <th>DATE</th>\n",
       "      <th></th>\n",
       "    </tr>\n",
       "  </thead>\n",
       "  <tbody>\n",
       "    <tr>\n",
       "      <th>2010-02-08</th>\n",
       "      <td>3.62</td>\n",
       "    </tr>\n",
       "  </tbody>\n",
       "</table>\n",
       "</div>"
      ],
      "text/plain": [
       "            DGS10\n",
       "DATE             \n",
       "2010-02-08   3.62"
      ]
     },
     "execution_count": 33,
     "metadata": {},
     "output_type": "execute_result"
    }
   ],
   "source": [
    "us10y_yield.head(1)"
   ]
  },
  {
   "cell_type": "markdown",
   "id": "34e985d7",
   "metadata": {},
   "source": [
    "##### 1.3.2 Interest rates - Data preparation"
   ]
  },
  {
   "cell_type": "code",
   "execution_count": 34,
   "id": "6b60cfa2",
   "metadata": {},
   "outputs": [
    {
     "data": {
      "text/html": [
       "<div>\n",
       "<style scoped>\n",
       "    .dataframe tbody tr th:only-of-type {\n",
       "        vertical-align: middle;\n",
       "    }\n",
       "\n",
       "    .dataframe tbody tr th {\n",
       "        vertical-align: top;\n",
       "    }\n",
       "\n",
       "    .dataframe thead th {\n",
       "        text-align: right;\n",
       "    }\n",
       "</style>\n",
       "<table border=\"1\" class=\"dataframe\">\n",
       "  <thead>\n",
       "    <tr style=\"text-align: right;\">\n",
       "      <th></th>\n",
       "      <th>int_close</th>\n",
       "    </tr>\n",
       "    <tr>\n",
       "      <th>date</th>\n",
       "      <th></th>\n",
       "    </tr>\n",
       "  </thead>\n",
       "  <tbody>\n",
       "    <tr>\n",
       "      <th>2010-02-08</th>\n",
       "      <td>3.62</td>\n",
       "    </tr>\n",
       "  </tbody>\n",
       "</table>\n",
       "</div>"
      ],
      "text/plain": [
       "            int_close\n",
       "date                 \n",
       "2010-02-08       3.62"
      ]
     },
     "execution_count": 34,
     "metadata": {},
     "output_type": "execute_result"
    }
   ],
   "source": [
    "us10y_yield.index = pd.to_datetime(us10y_yield.index)\n",
    "us10y_yield.rename_axis('date', inplace=True)\n",
    "us10y_yield.rename(columns={'DGS10':'int_close'},inplace=True)\n",
    "us10y_yield.head(1)"
   ]
  },
  {
   "cell_type": "markdown",
   "id": "ec598936",
   "metadata": {},
   "source": [
    "##### 1.3.3 Interest rates - Missing dates and values"
   ]
  },
  {
   "cell_type": "code",
   "execution_count": 35,
   "id": "d661df1e",
   "metadata": {},
   "outputs": [
    {
     "data": {
      "text/plain": [
       "DatetimeIndex(['2010-02-13', '2010-02-14', '2010-02-20', '2010-02-21',\n",
       "               '2010-02-27', '2010-02-28', '2010-03-06', '2010-03-07',\n",
       "               '2010-03-13', '2010-03-14',\n",
       "               ...\n",
       "               '2023-01-07', '2023-01-08', '2023-01-14', '2023-01-15',\n",
       "               '2023-01-21', '2023-01-22', '2023-01-28', '2023-01-29',\n",
       "               '2023-02-04', '2023-02-05'],\n",
       "              dtype='datetime64[ns]', length=1356, freq=None)"
      ]
     },
     "execution_count": 35,
     "metadata": {},
     "output_type": "execute_result"
    }
   ],
   "source": [
    "#We are only missing 4 days for no apparent reason.\n",
    "full_range.difference(us10y_yield.index)"
   ]
  },
  {
   "cell_type": "code",
   "execution_count": 36,
   "id": "e2db0d10",
   "metadata": {},
   "outputs": [],
   "source": [
    "interestrate=us10y_yield.reindex(full_range)\n",
    "interestrate.fillna(method='ffill',inplace=True)"
   ]
  },
  {
   "cell_type": "code",
   "execution_count": 37,
   "id": "7a2e7498",
   "metadata": {},
   "outputs": [
    {
     "data": {
      "text/plain": [
       "int_close    0\n",
       "dtype: int64"
      ]
     },
     "execution_count": 37,
     "metadata": {},
     "output_type": "execute_result"
    }
   ],
   "source": [
    "interestrate.isna().sum()"
   ]
  },
  {
   "cell_type": "code",
   "execution_count": 38,
   "id": "2a749607",
   "metadata": {},
   "outputs": [
    {
     "name": "stdout",
     "output_type": "stream",
     "text": [
      "<class 'pandas.core.frame.DataFrame'>\n",
      "DatetimeIndex: 4747 entries, 2010-02-08 to 2023-02-06\n",
      "Freq: D\n",
      "Data columns (total 1 columns):\n",
      " #   Column     Non-Null Count  Dtype  \n",
      "---  ------     --------------  -----  \n",
      " 0   int_close  4747 non-null   float64\n",
      "dtypes: float64(1)\n",
      "memory usage: 203.2 KB\n"
     ]
    }
   ],
   "source": [
    "interestrate.info()"
   ]
  },
  {
   "cell_type": "markdown",
   "id": "a37b6685",
   "metadata": {},
   "source": [
    "### 1.4 Long vs Short term Spread"
   ]
  },
  {
   "cell_type": "markdown",
   "id": "79a21bf4",
   "metadata": {},
   "source": [
    "##### 1.4.1 Spread - Get the data"
   ]
  },
  {
   "cell_type": "code",
   "execution_count": 39,
   "id": "20710f7f",
   "metadata": {},
   "outputs": [],
   "source": [
    "# Set the start and end dates for the data\n",
    "start_date = \"2010-02-07\"\n",
    "end_date = \"2023-02-08\"\n",
    "\n",
    "# Fetch the 10-year and 2-year US Treasury Yields from FRED\n",
    "us10y_yield = pdr.data.DataReader('DGS10', 'fred', start_date, end_date)\n",
    "us2y_yield = pdr.data.DataReader('DGS2', 'fred', start_date, end_date)"
   ]
  },
  {
   "cell_type": "code",
   "execution_count": 40,
   "id": "80b26bd4",
   "metadata": {},
   "outputs": [
    {
     "data": {
      "text/plain": [
       "DATE\n",
       "2010-02-08    2.83\n",
       "2010-02-09    2.83\n",
       "2010-02-10    2.81\n",
       "2010-02-11    2.82\n",
       "2010-02-12    2.85\n",
       "              ... \n",
       "2023-02-02   -0.69\n",
       "2023-02-03   -0.77\n",
       "2023-02-06   -0.81\n",
       "2023-02-07   -0.80\n",
       "2023-02-08   -0.82\n",
       "Length: 3393, dtype: float64"
      ]
     },
     "execution_count": 40,
     "metadata": {},
     "output_type": "execute_result"
    }
   ],
   "source": [
    "# Calculate the spread between the 10-year and 2-year yields\n",
    "spread = us10y_yield['DGS10'] - us2y_yield['DGS2']\n",
    "spread"
   ]
  },
  {
   "cell_type": "markdown",
   "id": "cd7062f6",
   "metadata": {},
   "source": [
    "##### 1.4.2 Spread - Data preparation"
   ]
  },
  {
   "cell_type": "code",
   "execution_count": 41,
   "id": "ba6f14cb",
   "metadata": {},
   "outputs": [
    {
     "data": {
      "text/html": [
       "<div>\n",
       "<style scoped>\n",
       "    .dataframe tbody tr th:only-of-type {\n",
       "        vertical-align: middle;\n",
       "    }\n",
       "\n",
       "    .dataframe tbody tr th {\n",
       "        vertical-align: top;\n",
       "    }\n",
       "\n",
       "    .dataframe thead th {\n",
       "        text-align: right;\n",
       "    }\n",
       "</style>\n",
       "<table border=\"1\" class=\"dataframe\">\n",
       "  <thead>\n",
       "    <tr style=\"text-align: right;\">\n",
       "      <th></th>\n",
       "      <th>0</th>\n",
       "    </tr>\n",
       "    <tr>\n",
       "      <th>DATE</th>\n",
       "      <th></th>\n",
       "    </tr>\n",
       "  </thead>\n",
       "  <tbody>\n",
       "    <tr>\n",
       "      <th>2010-02-08</th>\n",
       "      <td>2.83</td>\n",
       "    </tr>\n",
       "  </tbody>\n",
       "</table>\n",
       "</div>"
      ],
      "text/plain": [
       "               0\n",
       "DATE            \n",
       "2010-02-08  2.83"
      ]
     },
     "execution_count": 41,
     "metadata": {},
     "output_type": "execute_result"
    }
   ],
   "source": [
    "#Transform date column into datetime\n",
    "spreadraw = pd.DataFrame(spread)\n",
    "spreadraw.head(1)"
   ]
  },
  {
   "cell_type": "code",
   "execution_count": 42,
   "id": "e230ca26",
   "metadata": {},
   "outputs": [
    {
     "data": {
      "text/html": [
       "<div>\n",
       "<style scoped>\n",
       "    .dataframe tbody tr th:only-of-type {\n",
       "        vertical-align: middle;\n",
       "    }\n",
       "\n",
       "    .dataframe tbody tr th {\n",
       "        vertical-align: top;\n",
       "    }\n",
       "\n",
       "    .dataframe thead th {\n",
       "        text-align: right;\n",
       "    }\n",
       "</style>\n",
       "<table border=\"1\" class=\"dataframe\">\n",
       "  <thead>\n",
       "    <tr style=\"text-align: right;\">\n",
       "      <th></th>\n",
       "      <th>spr_close</th>\n",
       "    </tr>\n",
       "    <tr>\n",
       "      <th>date</th>\n",
       "      <th></th>\n",
       "    </tr>\n",
       "  </thead>\n",
       "  <tbody>\n",
       "    <tr>\n",
       "      <th>2010-02-08</th>\n",
       "      <td>2.83</td>\n",
       "    </tr>\n",
       "  </tbody>\n",
       "</table>\n",
       "</div>"
      ],
      "text/plain": [
       "            spr_close\n",
       "date                 \n",
       "2010-02-08       2.83"
      ]
     },
     "execution_count": 42,
     "metadata": {},
     "output_type": "execute_result"
    }
   ],
   "source": [
    "spreadraw.index = pd.to_datetime(spreadraw.index)\n",
    "spreadraw.rename_axis('date', inplace=True)\n",
    "spreadraw.rename(columns={0:'spr_close'},inplace=True)\n",
    "spreadraw.head(1)"
   ]
  },
  {
   "cell_type": "markdown",
   "id": "bec4fe37",
   "metadata": {},
   "source": [
    "##### 1.4.3 Spread - Missing dates & values"
   ]
  },
  {
   "cell_type": "code",
   "execution_count": 43,
   "id": "ed7bf71f",
   "metadata": {},
   "outputs": [
    {
     "data": {
      "text/plain": [
       "DatetimeIndex(['2010-02-13', '2010-02-14', '2010-02-20', '2010-02-21',\n",
       "               '2010-02-27', '2010-02-28', '2010-03-06', '2010-03-07',\n",
       "               '2010-03-13', '2010-03-14',\n",
       "               ...\n",
       "               '2023-01-07', '2023-01-08', '2023-01-14', '2023-01-15',\n",
       "               '2023-01-21', '2023-01-22', '2023-01-28', '2023-01-29',\n",
       "               '2023-02-04', '2023-02-05'],\n",
       "              dtype='datetime64[ns]', length=1356, freq=None)"
      ]
     },
     "execution_count": 43,
     "metadata": {},
     "output_type": "execute_result"
    }
   ],
   "source": [
    "full_range.difference(spreadraw.index)"
   ]
  },
  {
   "cell_type": "code",
   "execution_count": 44,
   "id": "1e723ab5",
   "metadata": {},
   "outputs": [],
   "source": [
    "spread=spreadraw.asfreq('D')"
   ]
  },
  {
   "cell_type": "code",
   "execution_count": 45,
   "id": "6c45d8ba",
   "metadata": {},
   "outputs": [],
   "source": [
    "spread=spreadraw.reindex(full_range)\n",
    "spread.fillna(method='ffill',inplace=True)"
   ]
  },
  {
   "cell_type": "code",
   "execution_count": 46,
   "id": "5feae623",
   "metadata": {},
   "outputs": [
    {
     "data": {
      "text/plain": [
       "spr_close    0\n",
       "dtype: int64"
      ]
     },
     "execution_count": 46,
     "metadata": {},
     "output_type": "execute_result"
    }
   ],
   "source": [
    "spread.isna().sum()"
   ]
  },
  {
   "cell_type": "code",
   "execution_count": 47,
   "id": "725ea554",
   "metadata": {},
   "outputs": [
    {
     "name": "stdout",
     "output_type": "stream",
     "text": [
      "<class 'pandas.core.frame.DataFrame'>\n",
      "DatetimeIndex: 4747 entries, 2010-02-08 to 2023-02-06\n",
      "Freq: D\n",
      "Data columns (total 1 columns):\n",
      " #   Column     Non-Null Count  Dtype  \n",
      "---  ------     --------------  -----  \n",
      " 0   spr_close  4747 non-null   float64\n",
      "dtypes: float64(1)\n",
      "memory usage: 203.2 KB\n"
     ]
    }
   ],
   "source": [
    "spread.info()"
   ]
  },
  {
   "cell_type": "markdown",
   "id": "35898d13",
   "metadata": {},
   "source": [
    "### 1.5 Inflation"
   ]
  },
  {
   "cell_type": "markdown",
   "id": "67c849e4",
   "metadata": {},
   "source": [
    "##### 1.5.1 Inflation - Get the data"
   ]
  },
  {
   "cell_type": "code",
   "execution_count": 48,
   "id": "6a7047ca",
   "metadata": {},
   "outputs": [],
   "source": [
    "#US Consumer Price Index (CPI) in the FRED database\n",
    "# Set the start and end dates for the data\n",
    "start_date = \"2010-02-07\"\n",
    "end_date = \"2023-02-08\"\n",
    "\n",
    "# Fetch the US Consumer Price Index (CPI) from FRED\n",
    "cpi_data = pdr.data.DataReader('CPIAUCNS', 'fred', start_date, end_date)"
   ]
  },
  {
   "cell_type": "code",
   "execution_count": 49,
   "id": "0c6aeeeb",
   "metadata": {},
   "outputs": [
    {
     "data": {
      "text/html": [
       "<div>\n",
       "<style scoped>\n",
       "    .dataframe tbody tr th:only-of-type {\n",
       "        vertical-align: middle;\n",
       "    }\n",
       "\n",
       "    .dataframe tbody tr th {\n",
       "        vertical-align: top;\n",
       "    }\n",
       "\n",
       "    .dataframe thead th {\n",
       "        text-align: right;\n",
       "    }\n",
       "</style>\n",
       "<table border=\"1\" class=\"dataframe\">\n",
       "  <thead>\n",
       "    <tr style=\"text-align: right;\">\n",
       "      <th></th>\n",
       "      <th>CPIAUCNS</th>\n",
       "    </tr>\n",
       "    <tr>\n",
       "      <th>DATE</th>\n",
       "      <th></th>\n",
       "    </tr>\n",
       "  </thead>\n",
       "  <tbody>\n",
       "    <tr>\n",
       "      <th>2010-03-01</th>\n",
       "      <td>217.631</td>\n",
       "    </tr>\n",
       "    <tr>\n",
       "      <th>2010-04-01</th>\n",
       "      <td>218.009</td>\n",
       "    </tr>\n",
       "    <tr>\n",
       "      <th>2010-05-01</th>\n",
       "      <td>218.178</td>\n",
       "    </tr>\n",
       "    <tr>\n",
       "      <th>2010-06-01</th>\n",
       "      <td>217.965</td>\n",
       "    </tr>\n",
       "    <tr>\n",
       "      <th>2010-07-01</th>\n",
       "      <td>218.011</td>\n",
       "    </tr>\n",
       "    <tr>\n",
       "      <th>...</th>\n",
       "      <td>...</td>\n",
       "    </tr>\n",
       "    <tr>\n",
       "      <th>2022-10-01</th>\n",
       "      <td>298.012</td>\n",
       "    </tr>\n",
       "    <tr>\n",
       "      <th>2022-11-01</th>\n",
       "      <td>297.711</td>\n",
       "    </tr>\n",
       "    <tr>\n",
       "      <th>2022-12-01</th>\n",
       "      <td>296.797</td>\n",
       "    </tr>\n",
       "    <tr>\n",
       "      <th>2023-01-01</th>\n",
       "      <td>299.170</td>\n",
       "    </tr>\n",
       "    <tr>\n",
       "      <th>2023-02-01</th>\n",
       "      <td>300.840</td>\n",
       "    </tr>\n",
       "  </tbody>\n",
       "</table>\n",
       "<p>156 rows × 1 columns</p>\n",
       "</div>"
      ],
      "text/plain": [
       "            CPIAUCNS\n",
       "DATE                \n",
       "2010-03-01   217.631\n",
       "2010-04-01   218.009\n",
       "2010-05-01   218.178\n",
       "2010-06-01   217.965\n",
       "2010-07-01   218.011\n",
       "...              ...\n",
       "2022-10-01   298.012\n",
       "2022-11-01   297.711\n",
       "2022-12-01   296.797\n",
       "2023-01-01   299.170\n",
       "2023-02-01   300.840\n",
       "\n",
       "[156 rows x 1 columns]"
      ]
     },
     "execution_count": 49,
     "metadata": {},
     "output_type": "execute_result"
    }
   ],
   "source": [
    "cpi_data"
   ]
  },
  {
   "cell_type": "markdown",
   "id": "bfc2d941",
   "metadata": {},
   "source": [
    "##### 1.5.1 Inflation - Data preparation"
   ]
  },
  {
   "cell_type": "code",
   "execution_count": 50,
   "id": "0a3c1b64",
   "metadata": {},
   "outputs": [
    {
     "data": {
      "text/html": [
       "<div>\n",
       "<style scoped>\n",
       "    .dataframe tbody tr th:only-of-type {\n",
       "        vertical-align: middle;\n",
       "    }\n",
       "\n",
       "    .dataframe tbody tr th {\n",
       "        vertical-align: top;\n",
       "    }\n",
       "\n",
       "    .dataframe thead th {\n",
       "        text-align: right;\n",
       "    }\n",
       "</style>\n",
       "<table border=\"1\" class=\"dataframe\">\n",
       "  <thead>\n",
       "    <tr style=\"text-align: right;\">\n",
       "      <th></th>\n",
       "      <th>inf_close</th>\n",
       "    </tr>\n",
       "    <tr>\n",
       "      <th>date</th>\n",
       "      <th></th>\n",
       "    </tr>\n",
       "  </thead>\n",
       "  <tbody>\n",
       "    <tr>\n",
       "      <th>2010-03-01</th>\n",
       "      <td>217.631</td>\n",
       "    </tr>\n",
       "  </tbody>\n",
       "</table>\n",
       "</div>"
      ],
      "text/plain": [
       "            inf_close\n",
       "date                 \n",
       "2010-03-01    217.631"
      ]
     },
     "execution_count": 50,
     "metadata": {},
     "output_type": "execute_result"
    }
   ],
   "source": [
    "cpi_data.index = pd.to_datetime(cpi_data.index)\n",
    "cpi_data.rename_axis('date', inplace=True)\n",
    "cpi_data.rename(columns={'CPIAUCNS':'inf_close'},inplace=True)\n",
    "cpi_data.head(1)"
   ]
  },
  {
   "cell_type": "markdown",
   "id": "dfac2b60",
   "metadata": {},
   "source": [
    "##### 1.5.3 Inflation - Missing dates and values"
   ]
  },
  {
   "cell_type": "code",
   "execution_count": 51,
   "id": "3e966ee4",
   "metadata": {},
   "outputs": [
    {
     "data": {
      "text/plain": [
       "DatetimeIndex(['2010-02-08', '2010-02-09', '2010-02-10', '2010-02-11',\n",
       "               '2010-02-12', '2010-02-13', '2010-02-14', '2010-02-15',\n",
       "               '2010-02-16', '2010-02-17',\n",
       "               ...\n",
       "               '2023-01-27', '2023-01-28', '2023-01-29', '2023-01-30',\n",
       "               '2023-01-31', '2023-02-02', '2023-02-03', '2023-02-04',\n",
       "               '2023-02-05', '2023-02-06'],\n",
       "              dtype='datetime64[ns]', length=4591, freq=None)"
      ]
     },
     "execution_count": 51,
     "metadata": {},
     "output_type": "execute_result"
    }
   ],
   "source": [
    "full_range.difference(cpi_data.index)"
   ]
  },
  {
   "cell_type": "code",
   "execution_count": 52,
   "id": "6b03e938",
   "metadata": {},
   "outputs": [],
   "source": [
    "inflation=cpi_data.reindex(full_range)\n",
    "inflation.fillna(method='ffill',inplace=True)\n",
    "inflation.fillna(method='bfill',inplace=True)"
   ]
  },
  {
   "cell_type": "code",
   "execution_count": 53,
   "id": "d5e9d5ad",
   "metadata": {},
   "outputs": [
    {
     "data": {
      "text/html": [
       "<div>\n",
       "<style scoped>\n",
       "    .dataframe tbody tr th:only-of-type {\n",
       "        vertical-align: middle;\n",
       "    }\n",
       "\n",
       "    .dataframe tbody tr th {\n",
       "        vertical-align: top;\n",
       "    }\n",
       "\n",
       "    .dataframe thead th {\n",
       "        text-align: right;\n",
       "    }\n",
       "</style>\n",
       "<table border=\"1\" class=\"dataframe\">\n",
       "  <thead>\n",
       "    <tr style=\"text-align: right;\">\n",
       "      <th></th>\n",
       "      <th>inf_close</th>\n",
       "    </tr>\n",
       "  </thead>\n",
       "  <tbody>\n",
       "    <tr>\n",
       "      <th>2010-02-08</th>\n",
       "      <td>217.631</td>\n",
       "    </tr>\n",
       "  </tbody>\n",
       "</table>\n",
       "</div>"
      ],
      "text/plain": [
       "            inf_close\n",
       "2010-02-08    217.631"
      ]
     },
     "execution_count": 53,
     "metadata": {},
     "output_type": "execute_result"
    }
   ],
   "source": [
    "inflation.head(1)"
   ]
  },
  {
   "cell_type": "code",
   "execution_count": 54,
   "id": "62c9a009",
   "metadata": {},
   "outputs": [
    {
     "data": {
      "text/html": [
       "<div>\n",
       "<style scoped>\n",
       "    .dataframe tbody tr th:only-of-type {\n",
       "        vertical-align: middle;\n",
       "    }\n",
       "\n",
       "    .dataframe tbody tr th {\n",
       "        vertical-align: top;\n",
       "    }\n",
       "\n",
       "    .dataframe thead th {\n",
       "        text-align: right;\n",
       "    }\n",
       "</style>\n",
       "<table border=\"1\" class=\"dataframe\">\n",
       "  <thead>\n",
       "    <tr style=\"text-align: right;\">\n",
       "      <th></th>\n",
       "      <th>inf_close</th>\n",
       "    </tr>\n",
       "  </thead>\n",
       "  <tbody>\n",
       "    <tr>\n",
       "      <th>2023-02-06</th>\n",
       "      <td>300.84</td>\n",
       "    </tr>\n",
       "  </tbody>\n",
       "</table>\n",
       "</div>"
      ],
      "text/plain": [
       "            inf_close\n",
       "2023-02-06     300.84"
      ]
     },
     "execution_count": 54,
     "metadata": {},
     "output_type": "execute_result"
    }
   ],
   "source": [
    "inflation.tail(1)"
   ]
  },
  {
   "cell_type": "code",
   "execution_count": 55,
   "id": "3050e556",
   "metadata": {},
   "outputs": [
    {
     "data": {
      "text/plain": [
       "inf_close    0\n",
       "dtype: int64"
      ]
     },
     "execution_count": 55,
     "metadata": {},
     "output_type": "execute_result"
    }
   ],
   "source": [
    "inflation.isna().sum()"
   ]
  },
  {
   "cell_type": "code",
   "execution_count": 56,
   "id": "828a5fe6",
   "metadata": {},
   "outputs": [
    {
     "name": "stdout",
     "output_type": "stream",
     "text": [
      "<class 'pandas.core.frame.DataFrame'>\n",
      "DatetimeIndex: 4747 entries, 2010-02-08 to 2023-02-06\n",
      "Freq: D\n",
      "Data columns (total 1 columns):\n",
      " #   Column     Non-Null Count  Dtype  \n",
      "---  ------     --------------  -----  \n",
      " 0   inf_close  4747 non-null   float64\n",
      "dtypes: float64(1)\n",
      "memory usage: 203.2 KB\n"
     ]
    }
   ],
   "source": [
    "inflation.info()"
   ]
  },
  {
   "cell_type": "markdown",
   "id": "4692c673",
   "metadata": {},
   "source": [
    "### 1.6 Volatility index"
   ]
  },
  {
   "cell_type": "markdown",
   "id": "1d474280",
   "metadata": {},
   "source": [
    "##### 1.6.1 VIX - Get the data"
   ]
  },
  {
   "cell_type": "code",
   "execution_count": 57,
   "id": "142ad800",
   "metadata": {},
   "outputs": [
    {
     "name": "stdout",
     "output_type": "stream",
     "text": [
      "[*********************100%***********************]  1 of 1 completed\n"
     ]
    }
   ],
   "source": [
    "#US Consumer Price Index (CPI) in the FRED database\n",
    "# Set the start and end dates for the data\n",
    "start_date = \"2010-02-07\"\n",
    "end_date = \"2023-02-08\"\n",
    "\n",
    "# Fetch the VIX data from Yahoo Finance\n",
    "vix_data = yf.download('^VIX', start=start_date, end=end_date)"
   ]
  },
  {
   "cell_type": "code",
   "execution_count": 58,
   "id": "33d66e64",
   "metadata": {},
   "outputs": [
    {
     "data": {
      "text/html": [
       "<div>\n",
       "<style scoped>\n",
       "    .dataframe tbody tr th:only-of-type {\n",
       "        vertical-align: middle;\n",
       "    }\n",
       "\n",
       "    .dataframe tbody tr th {\n",
       "        vertical-align: top;\n",
       "    }\n",
       "\n",
       "    .dataframe thead th {\n",
       "        text-align: right;\n",
       "    }\n",
       "</style>\n",
       "<table border=\"1\" class=\"dataframe\">\n",
       "  <thead>\n",
       "    <tr style=\"text-align: right;\">\n",
       "      <th></th>\n",
       "      <th>Open</th>\n",
       "      <th>High</th>\n",
       "      <th>Low</th>\n",
       "      <th>Close</th>\n",
       "      <th>Adj Close</th>\n",
       "      <th>Volume</th>\n",
       "    </tr>\n",
       "    <tr>\n",
       "      <th>Date</th>\n",
       "      <th></th>\n",
       "      <th></th>\n",
       "      <th></th>\n",
       "      <th></th>\n",
       "      <th></th>\n",
       "      <th></th>\n",
       "    </tr>\n",
       "  </thead>\n",
       "  <tbody>\n",
       "    <tr>\n",
       "      <th>2010-02-08</th>\n",
       "      <td>26.110001</td>\n",
       "      <td>27.110001</td>\n",
       "      <td>25.480000</td>\n",
       "      <td>26.510000</td>\n",
       "      <td>26.510000</td>\n",
       "      <td>0</td>\n",
       "    </tr>\n",
       "    <tr>\n",
       "      <th>2010-02-09</th>\n",
       "      <td>26.510000</td>\n",
       "      <td>26.559999</td>\n",
       "      <td>24.780001</td>\n",
       "      <td>26.000000</td>\n",
       "      <td>26.000000</td>\n",
       "      <td>0</td>\n",
       "    </tr>\n",
       "    <tr>\n",
       "      <th>2010-02-10</th>\n",
       "      <td>26.360001</td>\n",
       "      <td>26.770000</td>\n",
       "      <td>24.799999</td>\n",
       "      <td>25.400000</td>\n",
       "      <td>25.400000</td>\n",
       "      <td>0</td>\n",
       "    </tr>\n",
       "    <tr>\n",
       "      <th>2010-02-11</th>\n",
       "      <td>25.820000</td>\n",
       "      <td>26.110001</td>\n",
       "      <td>23.870001</td>\n",
       "      <td>23.959999</td>\n",
       "      <td>23.959999</td>\n",
       "      <td>0</td>\n",
       "    </tr>\n",
       "    <tr>\n",
       "      <th>2010-02-12</th>\n",
       "      <td>23.959999</td>\n",
       "      <td>25.540001</td>\n",
       "      <td>22.730000</td>\n",
       "      <td>22.730000</td>\n",
       "      <td>22.730000</td>\n",
       "      <td>0</td>\n",
       "    </tr>\n",
       "    <tr>\n",
       "      <th>...</th>\n",
       "      <td>...</td>\n",
       "      <td>...</td>\n",
       "      <td>...</td>\n",
       "      <td>...</td>\n",
       "      <td>...</td>\n",
       "      <td>...</td>\n",
       "    </tr>\n",
       "    <tr>\n",
       "      <th>2023-02-01</th>\n",
       "      <td>19.620001</td>\n",
       "      <td>20.040001</td>\n",
       "      <td>17.700001</td>\n",
       "      <td>17.870001</td>\n",
       "      <td>17.870001</td>\n",
       "      <td>0</td>\n",
       "    </tr>\n",
       "    <tr>\n",
       "      <th>2023-02-02</th>\n",
       "      <td>17.740000</td>\n",
       "      <td>19.250000</td>\n",
       "      <td>17.059999</td>\n",
       "      <td>18.730000</td>\n",
       "      <td>18.730000</td>\n",
       "      <td>0</td>\n",
       "    </tr>\n",
       "    <tr>\n",
       "      <th>2023-02-03</th>\n",
       "      <td>18.570000</td>\n",
       "      <td>19.299999</td>\n",
       "      <td>17.930000</td>\n",
       "      <td>18.330000</td>\n",
       "      <td>18.330000</td>\n",
       "      <td>0</td>\n",
       "    </tr>\n",
       "    <tr>\n",
       "      <th>2023-02-06</th>\n",
       "      <td>19.230000</td>\n",
       "      <td>19.809999</td>\n",
       "      <td>19.209999</td>\n",
       "      <td>19.430000</td>\n",
       "      <td>19.430000</td>\n",
       "      <td>0</td>\n",
       "    </tr>\n",
       "    <tr>\n",
       "      <th>2023-02-07</th>\n",
       "      <td>19.540001</td>\n",
       "      <td>19.990000</td>\n",
       "      <td>18.430000</td>\n",
       "      <td>18.660000</td>\n",
       "      <td>18.660000</td>\n",
       "      <td>0</td>\n",
       "    </tr>\n",
       "  </tbody>\n",
       "</table>\n",
       "<p>3273 rows × 6 columns</p>\n",
       "</div>"
      ],
      "text/plain": [
       "                 Open       High        Low      Close  Adj Close  Volume\n",
       "Date                                                                     \n",
       "2010-02-08  26.110001  27.110001  25.480000  26.510000  26.510000       0\n",
       "2010-02-09  26.510000  26.559999  24.780001  26.000000  26.000000       0\n",
       "2010-02-10  26.360001  26.770000  24.799999  25.400000  25.400000       0\n",
       "2010-02-11  25.820000  26.110001  23.870001  23.959999  23.959999       0\n",
       "2010-02-12  23.959999  25.540001  22.730000  22.730000  22.730000       0\n",
       "...               ...        ...        ...        ...        ...     ...\n",
       "2023-02-01  19.620001  20.040001  17.700001  17.870001  17.870001       0\n",
       "2023-02-02  17.740000  19.250000  17.059999  18.730000  18.730000       0\n",
       "2023-02-03  18.570000  19.299999  17.930000  18.330000  18.330000       0\n",
       "2023-02-06  19.230000  19.809999  19.209999  19.430000  19.430000       0\n",
       "2023-02-07  19.540001  19.990000  18.430000  18.660000  18.660000       0\n",
       "\n",
       "[3273 rows x 6 columns]"
      ]
     },
     "execution_count": 58,
     "metadata": {},
     "output_type": "execute_result"
    }
   ],
   "source": [
    "vix_data "
   ]
  },
  {
   "cell_type": "markdown",
   "id": "9d170e6e",
   "metadata": {},
   "source": [
    "##### 1.6.2 VIX - Data preparation"
   ]
  },
  {
   "cell_type": "code",
   "execution_count": 59,
   "id": "e5af1b1d",
   "metadata": {},
   "outputs": [
    {
     "data": {
      "text/html": [
       "<div>\n",
       "<style scoped>\n",
       "    .dataframe tbody tr th:only-of-type {\n",
       "        vertical-align: middle;\n",
       "    }\n",
       "\n",
       "    .dataframe tbody tr th {\n",
       "        vertical-align: top;\n",
       "    }\n",
       "\n",
       "    .dataframe thead th {\n",
       "        text-align: right;\n",
       "    }\n",
       "</style>\n",
       "<table border=\"1\" class=\"dataframe\">\n",
       "  <thead>\n",
       "    <tr style=\"text-align: right;\">\n",
       "      <th></th>\n",
       "      <th>vix_close</th>\n",
       "    </tr>\n",
       "    <tr>\n",
       "      <th>Date</th>\n",
       "      <th></th>\n",
       "    </tr>\n",
       "  </thead>\n",
       "  <tbody>\n",
       "    <tr>\n",
       "      <th>2010-02-08</th>\n",
       "      <td>26.51</td>\n",
       "    </tr>\n",
       "  </tbody>\n",
       "</table>\n",
       "</div>"
      ],
      "text/plain": [
       "            vix_close\n",
       "Date                 \n",
       "2010-02-08      26.51"
      ]
     },
     "execution_count": 59,
     "metadata": {},
     "output_type": "execute_result"
    }
   ],
   "source": [
    "#we will only use volume and close price\n",
    "vix_data = vix_data.drop(columns=['Open','High','Low','Adj Close','Volume'])\n",
    "#Transform date column into datetime\n",
    "vix_data.index = pd.to_datetime(vix_data .index)\n",
    "vix_data.rename(columns={'Date':'date','Close':'vix_close'},inplace=True)\n",
    "vix_data.head(1)"
   ]
  },
  {
   "cell_type": "markdown",
   "id": "d50649ff",
   "metadata": {},
   "source": [
    "##### 1.6.3 VIX - Missing dates and values"
   ]
  },
  {
   "cell_type": "code",
   "execution_count": 60,
   "id": "cce295ed",
   "metadata": {},
   "outputs": [
    {
     "data": {
      "text/plain": [
       "DatetimeIndex(['2010-02-13', '2010-02-14', '2010-02-15', '2010-02-20',\n",
       "               '2010-02-21', '2010-02-27', '2010-02-28', '2010-03-06',\n",
       "               '2010-03-07', '2010-03-13',\n",
       "               ...\n",
       "               '2023-01-08', '2023-01-14', '2023-01-15', '2023-01-16',\n",
       "               '2023-01-21', '2023-01-22', '2023-01-28', '2023-01-29',\n",
       "               '2023-02-04', '2023-02-05'],\n",
       "              dtype='datetime64[ns]', length=1475, freq=None)"
      ]
     },
     "execution_count": 60,
     "metadata": {},
     "output_type": "execute_result"
    }
   ],
   "source": [
    "full_range.difference(vix_data.index)"
   ]
  },
  {
   "cell_type": "code",
   "execution_count": 61,
   "id": "992c720b",
   "metadata": {},
   "outputs": [],
   "source": [
    "# Fill in the holidays and weekend\n",
    "vix=vix_data.reindex(full_range)\n",
    "vix.fillna(method='ffill',inplace=True)"
   ]
  },
  {
   "cell_type": "code",
   "execution_count": 62,
   "id": "f2b6e349",
   "metadata": {},
   "outputs": [
    {
     "data": {
      "text/plain": [
       "vix_close    0\n",
       "dtype: int64"
      ]
     },
     "execution_count": 62,
     "metadata": {},
     "output_type": "execute_result"
    }
   ],
   "source": [
    "vix.isna().sum()"
   ]
  },
  {
   "cell_type": "code",
   "execution_count": 63,
   "id": "75cca7f6",
   "metadata": {},
   "outputs": [
    {
     "name": "stdout",
     "output_type": "stream",
     "text": [
      "<class 'pandas.core.frame.DataFrame'>\n",
      "DatetimeIndex: 4747 entries, 2010-02-08 to 2023-02-06\n",
      "Freq: D\n",
      "Data columns (total 1 columns):\n",
      " #   Column     Non-Null Count  Dtype\n",
      "---  ------     --------------  -----\n",
      " 0   vix_close  4747 non-null   bool \n",
      "dtypes: bool(1)\n",
      "memory usage: 170.8 KB\n"
     ]
    }
   ],
   "source": [
    "vix.isna().info()"
   ]
  },
  {
   "cell_type": "code",
   "execution_count": 64,
   "id": "25b01e0a",
   "metadata": {},
   "outputs": [
    {
     "data": {
      "text/html": [
       "<div>\n",
       "<style scoped>\n",
       "    .dataframe tbody tr th:only-of-type {\n",
       "        vertical-align: middle;\n",
       "    }\n",
       "\n",
       "    .dataframe tbody tr th {\n",
       "        vertical-align: top;\n",
       "    }\n",
       "\n",
       "    .dataframe thead th {\n",
       "        text-align: right;\n",
       "    }\n",
       "</style>\n",
       "<table border=\"1\" class=\"dataframe\">\n",
       "  <thead>\n",
       "    <tr style=\"text-align: right;\">\n",
       "      <th></th>\n",
       "      <th>vix_close</th>\n",
       "    </tr>\n",
       "  </thead>\n",
       "  <tbody>\n",
       "    <tr>\n",
       "      <th>2010-02-08</th>\n",
       "      <td>26.51</td>\n",
       "    </tr>\n",
       "  </tbody>\n",
       "</table>\n",
       "</div>"
      ],
      "text/plain": [
       "            vix_close\n",
       "2010-02-08      26.51"
      ]
     },
     "execution_count": 64,
     "metadata": {},
     "output_type": "execute_result"
    }
   ],
   "source": [
    "vix.head(1)"
   ]
  },
  {
   "cell_type": "markdown",
   "id": "a0bf15de",
   "metadata": {},
   "source": [
    "### 1.7 S&P500 Total value"
   ]
  },
  {
   "cell_type": "markdown",
   "id": "f50d1924",
   "metadata": {},
   "source": [
    "##### 1.7.1 S&P500 Total - Get the data"
   ]
  },
  {
   "cell_type": "code",
   "execution_count": 65,
   "id": "5933233a",
   "metadata": {},
   "outputs": [
    {
     "name": "stdout",
     "output_type": "stream",
     "text": [
      "[*********************100%***********************]  1 of 1 completed\n"
     ]
    }
   ],
   "source": [
    "sp500_index = \"^GSPC\"\n",
    "start_date = \"2010-02-07\"\n",
    "end_date = \"2023-02-08\"\n",
    "\n",
    "sp500_data = yf.download(sp500_index, start=start_date, end=end_date)\n",
    "\n",
    "# The sp500_data variable now contains the historical data for the S&P 500 index"
   ]
  },
  {
   "cell_type": "code",
   "execution_count": 66,
   "id": "78e955c2",
   "metadata": {
    "scrolled": true
   },
   "outputs": [
    {
     "data": {
      "text/html": [
       "<div>\n",
       "<style scoped>\n",
       "    .dataframe tbody tr th:only-of-type {\n",
       "        vertical-align: middle;\n",
       "    }\n",
       "\n",
       "    .dataframe tbody tr th {\n",
       "        vertical-align: top;\n",
       "    }\n",
       "\n",
       "    .dataframe thead th {\n",
       "        text-align: right;\n",
       "    }\n",
       "</style>\n",
       "<table border=\"1\" class=\"dataframe\">\n",
       "  <thead>\n",
       "    <tr style=\"text-align: right;\">\n",
       "      <th></th>\n",
       "      <th>Open</th>\n",
       "      <th>High</th>\n",
       "      <th>Low</th>\n",
       "      <th>Close</th>\n",
       "      <th>Adj Close</th>\n",
       "      <th>Volume</th>\n",
       "    </tr>\n",
       "    <tr>\n",
       "      <th>Date</th>\n",
       "      <th></th>\n",
       "      <th></th>\n",
       "      <th></th>\n",
       "      <th></th>\n",
       "      <th></th>\n",
       "      <th></th>\n",
       "    </tr>\n",
       "  </thead>\n",
       "  <tbody>\n",
       "    <tr>\n",
       "      <th>2010-02-08</th>\n",
       "      <td>1065.510010</td>\n",
       "      <td>1071.199951</td>\n",
       "      <td>1056.510010</td>\n",
       "      <td>1056.739990</td>\n",
       "      <td>1056.739990</td>\n",
       "      <td>4089820000</td>\n",
       "    </tr>\n",
       "    <tr>\n",
       "      <th>2010-02-09</th>\n",
       "      <td>1060.060059</td>\n",
       "      <td>1079.280029</td>\n",
       "      <td>1060.060059</td>\n",
       "      <td>1070.520020</td>\n",
       "      <td>1070.520020</td>\n",
       "      <td>5114260000</td>\n",
       "    </tr>\n",
       "    <tr>\n",
       "      <th>2010-02-10</th>\n",
       "      <td>1069.680054</td>\n",
       "      <td>1073.670044</td>\n",
       "      <td>1059.339966</td>\n",
       "      <td>1068.130005</td>\n",
       "      <td>1068.130005</td>\n",
       "      <td>4251450000</td>\n",
       "    </tr>\n",
       "    <tr>\n",
       "      <th>2010-02-11</th>\n",
       "      <td>1067.099976</td>\n",
       "      <td>1080.040039</td>\n",
       "      <td>1060.589966</td>\n",
       "      <td>1078.469971</td>\n",
       "      <td>1078.469971</td>\n",
       "      <td>4400870000</td>\n",
       "    </tr>\n",
       "    <tr>\n",
       "      <th>2010-02-12</th>\n",
       "      <td>1075.949951</td>\n",
       "      <td>1077.810059</td>\n",
       "      <td>1062.969971</td>\n",
       "      <td>1075.510010</td>\n",
       "      <td>1075.510010</td>\n",
       "      <td>4160680000</td>\n",
       "    </tr>\n",
       "    <tr>\n",
       "      <th>...</th>\n",
       "      <td>...</td>\n",
       "      <td>...</td>\n",
       "      <td>...</td>\n",
       "      <td>...</td>\n",
       "      <td>...</td>\n",
       "      <td>...</td>\n",
       "    </tr>\n",
       "    <tr>\n",
       "      <th>2023-02-01</th>\n",
       "      <td>4070.070068</td>\n",
       "      <td>4148.950195</td>\n",
       "      <td>4037.199951</td>\n",
       "      <td>4119.209961</td>\n",
       "      <td>4119.209961</td>\n",
       "      <td>4856930000</td>\n",
       "    </tr>\n",
       "    <tr>\n",
       "      <th>2023-02-02</th>\n",
       "      <td>4158.680176</td>\n",
       "      <td>4195.439941</td>\n",
       "      <td>4141.879883</td>\n",
       "      <td>4179.759766</td>\n",
       "      <td>4179.759766</td>\n",
       "      <td>5624360000</td>\n",
       "    </tr>\n",
       "    <tr>\n",
       "      <th>2023-02-03</th>\n",
       "      <td>4136.689941</td>\n",
       "      <td>4182.359863</td>\n",
       "      <td>4123.359863</td>\n",
       "      <td>4136.479980</td>\n",
       "      <td>4136.479980</td>\n",
       "      <td>4694510000</td>\n",
       "    </tr>\n",
       "    <tr>\n",
       "      <th>2023-02-06</th>\n",
       "      <td>4119.569824</td>\n",
       "      <td>4124.629883</td>\n",
       "      <td>4093.379883</td>\n",
       "      <td>4111.080078</td>\n",
       "      <td>4111.080078</td>\n",
       "      <td>4114240000</td>\n",
       "    </tr>\n",
       "    <tr>\n",
       "      <th>2023-02-07</th>\n",
       "      <td>4105.350098</td>\n",
       "      <td>4176.540039</td>\n",
       "      <td>4088.389893</td>\n",
       "      <td>4164.000000</td>\n",
       "      <td>4164.000000</td>\n",
       "      <td>4355860000</td>\n",
       "    </tr>\n",
       "  </tbody>\n",
       "</table>\n",
       "<p>3273 rows × 6 columns</p>\n",
       "</div>"
      ],
      "text/plain": [
       "                   Open         High          Low        Close    Adj Close  \\\n",
       "Date                                                                          \n",
       "2010-02-08  1065.510010  1071.199951  1056.510010  1056.739990  1056.739990   \n",
       "2010-02-09  1060.060059  1079.280029  1060.060059  1070.520020  1070.520020   \n",
       "2010-02-10  1069.680054  1073.670044  1059.339966  1068.130005  1068.130005   \n",
       "2010-02-11  1067.099976  1080.040039  1060.589966  1078.469971  1078.469971   \n",
       "2010-02-12  1075.949951  1077.810059  1062.969971  1075.510010  1075.510010   \n",
       "...                 ...          ...          ...          ...          ...   \n",
       "2023-02-01  4070.070068  4148.950195  4037.199951  4119.209961  4119.209961   \n",
       "2023-02-02  4158.680176  4195.439941  4141.879883  4179.759766  4179.759766   \n",
       "2023-02-03  4136.689941  4182.359863  4123.359863  4136.479980  4136.479980   \n",
       "2023-02-06  4119.569824  4124.629883  4093.379883  4111.080078  4111.080078   \n",
       "2023-02-07  4105.350098  4176.540039  4088.389893  4164.000000  4164.000000   \n",
       "\n",
       "                Volume  \n",
       "Date                    \n",
       "2010-02-08  4089820000  \n",
       "2010-02-09  5114260000  \n",
       "2010-02-10  4251450000  \n",
       "2010-02-11  4400870000  \n",
       "2010-02-12  4160680000  \n",
       "...                ...  \n",
       "2023-02-01  4856930000  \n",
       "2023-02-02  5624360000  \n",
       "2023-02-03  4694510000  \n",
       "2023-02-06  4114240000  \n",
       "2023-02-07  4355860000  \n",
       "\n",
       "[3273 rows x 6 columns]"
      ]
     },
     "execution_count": 66,
     "metadata": {},
     "output_type": "execute_result"
    }
   ],
   "source": [
    "sp500_data"
   ]
  },
  {
   "cell_type": "markdown",
   "id": "dc72dc67",
   "metadata": {},
   "source": [
    "##### 1.7.2 S&P500 Total - Data preparation"
   ]
  },
  {
   "cell_type": "code",
   "execution_count": 67,
   "id": "2d508a34",
   "metadata": {},
   "outputs": [
    {
     "data": {
      "text/html": [
       "<div>\n",
       "<style scoped>\n",
       "    .dataframe tbody tr th:only-of-type {\n",
       "        vertical-align: middle;\n",
       "    }\n",
       "\n",
       "    .dataframe tbody tr th {\n",
       "        vertical-align: top;\n",
       "    }\n",
       "\n",
       "    .dataframe thead th {\n",
       "        text-align: right;\n",
       "    }\n",
       "</style>\n",
       "<table border=\"1\" class=\"dataframe\">\n",
       "  <thead>\n",
       "    <tr style=\"text-align: right;\">\n",
       "      <th></th>\n",
       "      <th>sp5t_close</th>\n",
       "    </tr>\n",
       "    <tr>\n",
       "      <th>Date</th>\n",
       "      <th></th>\n",
       "    </tr>\n",
       "  </thead>\n",
       "  <tbody>\n",
       "    <tr>\n",
       "      <th>2010-02-08</th>\n",
       "      <td>1056.73999</td>\n",
       "    </tr>\n",
       "  </tbody>\n",
       "</table>\n",
       "</div>"
      ],
      "text/plain": [
       "            sp5t_close\n",
       "Date                  \n",
       "2010-02-08  1056.73999"
      ]
     },
     "execution_count": 67,
     "metadata": {},
     "output_type": "execute_result"
    }
   ],
   "source": [
    "#we will only use volume and close price\n",
    "sp500_data = sp500_data.drop(columns=['Open','High','Low','Adj Close','Volume'])\n",
    "#Transform date column into datetime\n",
    "sp500_data.index = pd.to_datetime(sp500_data.index)\n",
    "sp500_data.rename(columns={'Date':'date','Close':'sp5t_close'},inplace=True)\n",
    "sp500_data.head(1)"
   ]
  },
  {
   "cell_type": "markdown",
   "id": "73828a4c",
   "metadata": {},
   "source": [
    "##### 1.7.3 S&P500 Total - Missing dates and values"
   ]
  },
  {
   "cell_type": "code",
   "execution_count": 68,
   "id": "851817f5",
   "metadata": {},
   "outputs": [
    {
     "data": {
      "text/plain": [
       "DatetimeIndex(['2010-02-13', '2010-02-14', '2010-02-15', '2010-02-20',\n",
       "               '2010-02-21', '2010-02-27', '2010-02-28', '2010-03-06',\n",
       "               '2010-03-07', '2010-03-13',\n",
       "               ...\n",
       "               '2023-01-08', '2023-01-14', '2023-01-15', '2023-01-16',\n",
       "               '2023-01-21', '2023-01-22', '2023-01-28', '2023-01-29',\n",
       "               '2023-02-04', '2023-02-05'],\n",
       "              dtype='datetime64[ns]', length=1475, freq=None)"
      ]
     },
     "execution_count": 68,
     "metadata": {},
     "output_type": "execute_result"
    }
   ],
   "source": [
    "full_range.difference(sp500_data.index)"
   ]
  },
  {
   "cell_type": "code",
   "execution_count": 69,
   "id": "9cb44a9f",
   "metadata": {},
   "outputs": [],
   "source": [
    "# Fill in the holidays and weekend\n",
    "sp500total=sp500_data.reindex(full_range)\n",
    "sp500total.fillna(method='ffill',inplace=True)"
   ]
  },
  {
   "cell_type": "code",
   "execution_count": 70,
   "id": "232b102c",
   "metadata": {},
   "outputs": [
    {
     "data": {
      "text/plain": [
       "sp5t_close    0\n",
       "dtype: int64"
      ]
     },
     "execution_count": 70,
     "metadata": {},
     "output_type": "execute_result"
    }
   ],
   "source": [
    "sp500total.isna().sum()"
   ]
  },
  {
   "cell_type": "code",
   "execution_count": 71,
   "id": "00857a2f",
   "metadata": {},
   "outputs": [
    {
     "name": "stdout",
     "output_type": "stream",
     "text": [
      "<class 'pandas.core.frame.DataFrame'>\n",
      "DatetimeIndex: 4747 entries, 2010-02-08 to 2023-02-06\n",
      "Freq: D\n",
      "Data columns (total 1 columns):\n",
      " #   Column      Non-Null Count  Dtype  \n",
      "---  ------      --------------  -----  \n",
      " 0   sp5t_close  4747 non-null   float64\n",
      "dtypes: float64(1)\n",
      "memory usage: 203.2 KB\n"
     ]
    }
   ],
   "source": [
    "sp500total.info()"
   ]
  },
  {
   "cell_type": "markdown",
   "id": "a3638b1a",
   "metadata": {},
   "source": [
    "# 2. Concatenate all DF"
   ]
  },
  {
   "cell_type": "code",
   "execution_count": 72,
   "id": "b1c87146",
   "metadata": {},
   "outputs": [],
   "source": [
    "# We already prepared all the dataframes with the same timeframe, so we can easily concatenate them horizontally.\n",
    "# The order we chose is first to have the general features and at the end the specific features per stock.\n",
    "database = pd.concat([sp500total,inflation,spread,interestrate,djindustrial,vix,sp500], axis=1)"
   ]
  },
  {
   "cell_type": "code",
   "execution_count": 73,
   "id": "4c7f9130",
   "metadata": {
    "scrolled": true
   },
   "outputs": [
    {
     "data": {
      "text/html": [
       "<div>\n",
       "<style scoped>\n",
       "    .dataframe tbody tr th:only-of-type {\n",
       "        vertical-align: middle;\n",
       "    }\n",
       "\n",
       "    .dataframe tbody tr th {\n",
       "        vertical-align: top;\n",
       "    }\n",
       "\n",
       "    .dataframe thead th {\n",
       "        text-align: right;\n",
       "    }\n",
       "</style>\n",
       "<table border=\"1\" class=\"dataframe\">\n",
       "  <thead>\n",
       "    <tr style=\"text-align: right;\">\n",
       "      <th></th>\n",
       "      <th>sp5t_close</th>\n",
       "      <th>inf_close</th>\n",
       "      <th>spr_close</th>\n",
       "      <th>int_close</th>\n",
       "      <th>dj_close</th>\n",
       "      <th>dj_volume</th>\n",
       "      <th>vix_close</th>\n",
       "      <th>AAL_close</th>\n",
       "      <th>AAPL_close</th>\n",
       "      <th>AAP_close</th>\n",
       "      <th>...</th>\n",
       "      <th>WU_close</th>\n",
       "      <th>WYNN_close</th>\n",
       "      <th>WY_close</th>\n",
       "      <th>XEL_close</th>\n",
       "      <th>XOM_close</th>\n",
       "      <th>XRAY_close</th>\n",
       "      <th>XRX_close</th>\n",
       "      <th>YUM_close</th>\n",
       "      <th>ZBH_close</th>\n",
       "      <th>ZION_close</th>\n",
       "    </tr>\n",
       "  </thead>\n",
       "  <tbody>\n",
       "    <tr>\n",
       "      <th>2010-02-08</th>\n",
       "      <td>1056.73999</td>\n",
       "      <td>217.631</td>\n",
       "      <td>2.83</td>\n",
       "      <td>3.62</td>\n",
       "      <td>9908.389648</td>\n",
       "      <td>216270000.0</td>\n",
       "      <td>26.51</td>\n",
       "      <td>5.93</td>\n",
       "      <td>6.932857</td>\n",
       "      <td>40.810001</td>\n",
       "      <td>...</td>\n",
       "      <td>16.16</td>\n",
       "      <td>60.759998</td>\n",
       "      <td>39.25</td>\n",
       "      <td>20.040001</td>\n",
       "      <td>64.349998</td>\n",
       "      <td>33.099998</td>\n",
       "      <td>22.26614</td>\n",
       "      <td>23.522646</td>\n",
       "      <td>53.805824</td>\n",
       "      <td>17.99</td>\n",
       "    </tr>\n",
       "  </tbody>\n",
       "</table>\n",
       "<p>1 rows × 403 columns</p>\n",
       "</div>"
      ],
      "text/plain": [
       "            sp5t_close  inf_close  spr_close  int_close     dj_close  \\\n",
       "2010-02-08  1056.73999    217.631       2.83       3.62  9908.389648   \n",
       "\n",
       "              dj_volume  vix_close  AAL_close  AAPL_close  AAP_close  ...  \\\n",
       "2010-02-08  216270000.0      26.51       5.93    6.932857  40.810001  ...   \n",
       "\n",
       "            WU_close  WYNN_close  WY_close  XEL_close  XOM_close  XRAY_close  \\\n",
       "2010-02-08     16.16   60.759998     39.25  20.040001  64.349998   33.099998   \n",
       "\n",
       "            XRX_close  YUM_close  ZBH_close  ZION_close  \n",
       "2010-02-08   22.26614  23.522646  53.805824       17.99  \n",
       "\n",
       "[1 rows x 403 columns]"
      ]
     },
     "execution_count": 73,
     "metadata": {},
     "output_type": "execute_result"
    }
   ],
   "source": [
    "database.head(1)"
   ]
  },
  {
   "cell_type": "code",
   "execution_count": 74,
   "id": "328a4eb7",
   "metadata": {},
   "outputs": [
    {
     "data": {
      "text/plain": [
       "(4747, 403)"
      ]
     },
     "execution_count": 74,
     "metadata": {},
     "output_type": "execute_result"
    }
   ],
   "source": [
    "database.shape"
   ]
  },
  {
   "cell_type": "code",
   "execution_count": 75,
   "id": "f21457a6",
   "metadata": {},
   "outputs": [],
   "source": [
    "database.reset_index(inplace=True)"
   ]
  },
  {
   "cell_type": "markdown",
   "id": "faf600ce",
   "metadata": {},
   "source": [
    "# 3. Feature Engineering"
   ]
  },
  {
   "cell_type": "code",
   "execution_count": 78,
   "id": "352b854c",
   "metadata": {},
   "outputs": [],
   "source": [
    "# Calculate the 30-day moving average using rolling\n",
    "database.rename(columns={'index':'date'},inplace=True)\n",
    "database['timing'] = database.index\n",
    "# Calculate the 30-day moving average using rolling\n",
    "database['sp5avg'] = database['sp5t_close'].rolling(window=30).mean()\n",
    "second_column = database.pop('sp5avg')\n",
    "third_column = database.pop('timing')\n",
    "database.insert(1,'sp5avg', second_column)\n",
    "database.insert(2,'timing', third_column)"
   ]
  },
  {
   "cell_type": "code",
   "execution_count": 81,
   "id": "a39a282a",
   "metadata": {},
   "outputs": [],
   "source": [
    "database.fillna(method='bfill',inplace=True)"
   ]
  },
  {
   "cell_type": "code",
   "execution_count": 82,
   "id": "93c85a9d",
   "metadata": {},
   "outputs": [
    {
     "data": {
      "text/plain": [
       "date          0\n",
       "sp5avg        0\n",
       "timing        0\n",
       "sp5t_close    0\n",
       "inf_close     0\n",
       "             ..\n",
       "XRAY_close    0\n",
       "XRX_close     0\n",
       "YUM_close     0\n",
       "ZBH_close     0\n",
       "ZION_close    0\n",
       "Length: 406, dtype: int64"
      ]
     },
     "execution_count": 82,
     "metadata": {},
     "output_type": "execute_result"
    }
   ],
   "source": [
    "database.isna().sum()"
   ]
  },
  {
   "cell_type": "code",
   "execution_count": 83,
   "id": "0737e511",
   "metadata": {},
   "outputs": [
    {
     "name": "stdout",
     "output_type": "stream",
     "text": [
      "<class 'pandas.core.frame.DataFrame'>\n",
      "RangeIndex: 4747 entries, 0 to 4746\n",
      "Columns: 406 entries, date to ZION_close\n",
      "dtypes: datetime64[ns](1), float64(404), int64(1)\n",
      "memory usage: 14.7 MB\n"
     ]
    }
   ],
   "source": [
    "database.info()"
   ]
  },
  {
   "cell_type": "code",
   "execution_count": 84,
   "id": "8cffb5a3",
   "metadata": {},
   "outputs": [
    {
     "data": {
      "text/html": [
       "<div>\n",
       "<style scoped>\n",
       "    .dataframe tbody tr th:only-of-type {\n",
       "        vertical-align: middle;\n",
       "    }\n",
       "\n",
       "    .dataframe tbody tr th {\n",
       "        vertical-align: top;\n",
       "    }\n",
       "\n",
       "    .dataframe thead th {\n",
       "        text-align: right;\n",
       "    }\n",
       "</style>\n",
       "<table border=\"1\" class=\"dataframe\">\n",
       "  <thead>\n",
       "    <tr style=\"text-align: right;\">\n",
       "      <th></th>\n",
       "      <th>date</th>\n",
       "      <th>sp5avg</th>\n",
       "      <th>timing</th>\n",
       "      <th>sp5t_close</th>\n",
       "      <th>inf_close</th>\n",
       "      <th>spr_close</th>\n",
       "      <th>int_close</th>\n",
       "      <th>dj_close</th>\n",
       "      <th>dj_volume</th>\n",
       "      <th>vix_close</th>\n",
       "      <th>...</th>\n",
       "      <th>WU_close</th>\n",
       "      <th>WYNN_close</th>\n",
       "      <th>WY_close</th>\n",
       "      <th>XEL_close</th>\n",
       "      <th>XOM_close</th>\n",
       "      <th>XRAY_close</th>\n",
       "      <th>XRX_close</th>\n",
       "      <th>YUM_close</th>\n",
       "      <th>ZBH_close</th>\n",
       "      <th>ZION_close</th>\n",
       "    </tr>\n",
       "  </thead>\n",
       "  <tbody>\n",
       "    <tr>\n",
       "      <th>4742</th>\n",
       "      <td>2023-02-02</td>\n",
       "      <td>3985.391040</td>\n",
       "      <td>4742</td>\n",
       "      <td>4179.759766</td>\n",
       "      <td>300.84</td>\n",
       "      <td>-0.69</td>\n",
       "      <td>3.40</td>\n",
       "      <td>34053.941406</td>\n",
       "      <td>429910000.0</td>\n",
       "      <td>18.73</td>\n",
       "      <td>...</td>\n",
       "      <td>14.40</td>\n",
       "      <td>102.959999</td>\n",
       "      <td>35.709999</td>\n",
       "      <td>69.559998</td>\n",
       "      <td>111.150002</td>\n",
       "      <td>39.660000</td>\n",
       "      <td>16.889999</td>\n",
       "      <td>128.210007</td>\n",
       "      <td>127.410004</td>\n",
       "      <td>54.290001</td>\n",
       "    </tr>\n",
       "    <tr>\n",
       "      <th>4743</th>\n",
       "      <td>2023-02-03</td>\n",
       "      <td>3994.841374</td>\n",
       "      <td>4743</td>\n",
       "      <td>4136.479980</td>\n",
       "      <td>300.84</td>\n",
       "      <td>-0.77</td>\n",
       "      <td>3.53</td>\n",
       "      <td>33926.011719</td>\n",
       "      <td>425150000.0</td>\n",
       "      <td>18.33</td>\n",
       "      <td>...</td>\n",
       "      <td>14.28</td>\n",
       "      <td>102.959999</td>\n",
       "      <td>35.270000</td>\n",
       "      <td>67.980003</td>\n",
       "      <td>111.919998</td>\n",
       "      <td>38.439999</td>\n",
       "      <td>16.959999</td>\n",
       "      <td>127.010002</td>\n",
       "      <td>129.449997</td>\n",
       "      <td>54.410000</td>\n",
       "    </tr>\n",
       "    <tr>\n",
       "      <th>4744</th>\n",
       "      <td>2023-02-04</td>\n",
       "      <td>4005.787370</td>\n",
       "      <td>4744</td>\n",
       "      <td>4136.479980</td>\n",
       "      <td>300.84</td>\n",
       "      <td>-0.77</td>\n",
       "      <td>3.53</td>\n",
       "      <td>33926.011719</td>\n",
       "      <td>425150000.0</td>\n",
       "      <td>18.33</td>\n",
       "      <td>...</td>\n",
       "      <td>14.28</td>\n",
       "      <td>102.959999</td>\n",
       "      <td>35.270000</td>\n",
       "      <td>67.980003</td>\n",
       "      <td>111.919998</td>\n",
       "      <td>38.439999</td>\n",
       "      <td>16.959999</td>\n",
       "      <td>127.010002</td>\n",
       "      <td>129.449997</td>\n",
       "      <td>54.410000</td>\n",
       "    </tr>\n",
       "    <tr>\n",
       "      <th>4745</th>\n",
       "      <td>2023-02-05</td>\n",
       "      <td>4013.834033</td>\n",
       "      <td>4745</td>\n",
       "      <td>4136.479980</td>\n",
       "      <td>300.84</td>\n",
       "      <td>-0.77</td>\n",
       "      <td>3.53</td>\n",
       "      <td>33926.011719</td>\n",
       "      <td>425150000.0</td>\n",
       "      <td>18.33</td>\n",
       "      <td>...</td>\n",
       "      <td>14.28</td>\n",
       "      <td>102.959999</td>\n",
       "      <td>35.270000</td>\n",
       "      <td>67.980003</td>\n",
       "      <td>111.919998</td>\n",
       "      <td>38.439999</td>\n",
       "      <td>16.959999</td>\n",
       "      <td>127.010002</td>\n",
       "      <td>129.449997</td>\n",
       "      <td>54.410000</td>\n",
       "    </tr>\n",
       "    <tr>\n",
       "      <th>4746</th>\n",
       "      <td>2023-02-06</td>\n",
       "      <td>4021.034033</td>\n",
       "      <td>4746</td>\n",
       "      <td>4111.080078</td>\n",
       "      <td>300.84</td>\n",
       "      <td>-0.81</td>\n",
       "      <td>3.63</td>\n",
       "      <td>33891.019531</td>\n",
       "      <td>296400000.0</td>\n",
       "      <td>19.43</td>\n",
       "      <td>...</td>\n",
       "      <td>14.04</td>\n",
       "      <td>102.940002</td>\n",
       "      <td>34.250000</td>\n",
       "      <td>68.800003</td>\n",
       "      <td>111.730003</td>\n",
       "      <td>38.090000</td>\n",
       "      <td>16.740000</td>\n",
       "      <td>129.059998</td>\n",
       "      <td>128.520004</td>\n",
       "      <td>54.099998</td>\n",
       "    </tr>\n",
       "  </tbody>\n",
       "</table>\n",
       "<p>5 rows × 406 columns</p>\n",
       "</div>"
      ],
      "text/plain": [
       "           date       sp5avg  timing   sp5t_close  inf_close  spr_close  \\\n",
       "4742 2023-02-02  3985.391040    4742  4179.759766     300.84      -0.69   \n",
       "4743 2023-02-03  3994.841374    4743  4136.479980     300.84      -0.77   \n",
       "4744 2023-02-04  4005.787370    4744  4136.479980     300.84      -0.77   \n",
       "4745 2023-02-05  4013.834033    4745  4136.479980     300.84      -0.77   \n",
       "4746 2023-02-06  4021.034033    4746  4111.080078     300.84      -0.81   \n",
       "\n",
       "      int_close      dj_close    dj_volume  vix_close  ...  WU_close  \\\n",
       "4742       3.40  34053.941406  429910000.0      18.73  ...     14.40   \n",
       "4743       3.53  33926.011719  425150000.0      18.33  ...     14.28   \n",
       "4744       3.53  33926.011719  425150000.0      18.33  ...     14.28   \n",
       "4745       3.53  33926.011719  425150000.0      18.33  ...     14.28   \n",
       "4746       3.63  33891.019531  296400000.0      19.43  ...     14.04   \n",
       "\n",
       "      WYNN_close   WY_close  XEL_close   XOM_close  XRAY_close  XRX_close  \\\n",
       "4742  102.959999  35.709999  69.559998  111.150002   39.660000  16.889999   \n",
       "4743  102.959999  35.270000  67.980003  111.919998   38.439999  16.959999   \n",
       "4744  102.959999  35.270000  67.980003  111.919998   38.439999  16.959999   \n",
       "4745  102.959999  35.270000  67.980003  111.919998   38.439999  16.959999   \n",
       "4746  102.940002  34.250000  68.800003  111.730003   38.090000  16.740000   \n",
       "\n",
       "       YUM_close   ZBH_close  ZION_close  \n",
       "4742  128.210007  127.410004   54.290001  \n",
       "4743  127.010002  129.449997   54.410000  \n",
       "4744  127.010002  129.449997   54.410000  \n",
       "4745  127.010002  129.449997   54.410000  \n",
       "4746  129.059998  128.520004   54.099998  \n",
       "\n",
       "[5 rows x 406 columns]"
      ]
     },
     "execution_count": 84,
     "metadata": {},
     "output_type": "execute_result"
    }
   ],
   "source": [
    "database.tail(5)"
   ]
  },
  {
   "cell_type": "code",
   "execution_count": 85,
   "id": "70f2d9af",
   "metadata": {},
   "outputs": [
    {
     "data": {
      "text/plain": [
       "0"
      ]
     },
     "execution_count": 85,
     "metadata": {},
     "output_type": "execute_result"
    }
   ],
   "source": [
    "database.isna().sum().sum()"
   ]
  },
  {
   "cell_type": "code",
   "execution_count": 86,
   "id": "8360843b",
   "metadata": {},
   "outputs": [
    {
     "data": {
      "text/plain": [
       "(4747, 406)"
      ]
     },
     "execution_count": 86,
     "metadata": {},
     "output_type": "execute_result"
    }
   ],
   "source": [
    "database.shape"
   ]
  },
  {
   "cell_type": "markdown",
   "id": "49e701ed",
   "metadata": {},
   "source": [
    "# 4. Export database to csv"
   ]
  },
  {
   "cell_type": "code",
   "execution_count": 87,
   "id": "29de5a3d",
   "metadata": {},
   "outputs": [],
   "source": [
    "database.to_csv('database(alldays)2.csv',index=False)"
   ]
  },
  {
   "cell_type": "code",
   "execution_count": 88,
   "id": "668f7d22",
   "metadata": {},
   "outputs": [
    {
     "name": "stdout",
     "output_type": "stream",
     "text": [
      "<class 'pandas.core.frame.DataFrame'>\n",
      "RangeIndex: 4747 entries, 0 to 4746\n",
      "Columns: 406 entries, date to ZION_close\n",
      "dtypes: datetime64[ns](1), float64(404), int64(1)\n",
      "memory usage: 14.7 MB\n"
     ]
    }
   ],
   "source": [
    "database.info()"
   ]
  },
  {
   "cell_type": "code",
   "execution_count": 89,
   "id": "e7126e12",
   "metadata": {},
   "outputs": [],
   "source": [
    "#Remove the Leap Years\n",
    "database['date'] = pd.to_datetime(database['date'])"
   ]
  },
  {
   "cell_type": "code",
   "execution_count": 90,
   "id": "a29b40ba",
   "metadata": {},
   "outputs": [],
   "source": [
    "database = database[~((database['date'].dt.month == 2) & (database['date'].dt.day == 29))]"
   ]
  },
  {
   "cell_type": "code",
   "execution_count": 91,
   "id": "c5fe036b",
   "metadata": {},
   "outputs": [],
   "source": [
    "database.to_csv('database2.csv',index=False)"
   ]
  },
  {
   "cell_type": "code",
   "execution_count": 92,
   "id": "3f922d9d",
   "metadata": {},
   "outputs": [
    {
     "data": {
      "text/plain": [
       "(4744, 406)"
      ]
     },
     "execution_count": 92,
     "metadata": {},
     "output_type": "execute_result"
    }
   ],
   "source": [
    "database.shape"
   ]
  },
  {
   "cell_type": "code",
   "execution_count": null,
   "id": "cc188ece",
   "metadata": {},
   "outputs": [],
   "source": []
  }
 ],
 "metadata": {
  "kernelspec": {
   "display_name": "Python 3 (ipykernel)",
   "language": "python",
   "name": "python3"
  },
  "language_info": {
   "codemirror_mode": {
    "name": "ipython",
    "version": 3
   },
   "file_extension": ".py",
   "mimetype": "text/x-python",
   "name": "python",
   "nbconvert_exporter": "python",
   "pygments_lexer": "ipython3",
   "version": "3.9.13"
  }
 },
 "nbformat": 4,
 "nbformat_minor": 5
}
